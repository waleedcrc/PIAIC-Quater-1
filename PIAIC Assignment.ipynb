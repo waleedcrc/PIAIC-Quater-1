{
 "cells": [
  {
   "cell_type": "markdown",
   "metadata": {},
   "source": [
    "# first"
   ]
  },
  {
   "cell_type": "markdown",
   "metadata": {},
   "source": [
    "# To do list and completed task list"
   ]
  },
  {
   "cell_type": "code",
   "execution_count": 1,
   "metadata": {},
   "outputs": [],
   "source": [
    "To_dolist = ['Complete assignment','Bath','Namaz','Iftar','Playing cricket':]"
   ]
  },
  {
   "cell_type": "code",
   "execution_count": 1,
   "metadata": {},
   "outputs": [
    {
     "ename": "NameError",
     "evalue": "name 'To_dolist' is not defined",
     "output_type": "error",
     "traceback": [
      "\u001b[1;31m---------------------------------------------------------------------------\u001b[0m",
      "\u001b[1;31mNameError\u001b[0m                                 Traceback (most recent call last)",
      "\u001b[1;32m<ipython-input-1-96b78d6b1273>\u001b[0m in \u001b[0;36m<module>\u001b[1;34m\u001b[0m\n\u001b[1;32m----> 1\u001b[1;33m \u001b[0mComplete_Tasklist\u001b[0m \u001b[1;33m=\u001b[0m\u001b[1;33m[\u001b[0m\u001b[0mTo_dolist\u001b[0m\u001b[1;33m]\u001b[0m\u001b[1;33m\u001b[0m\u001b[1;33m\u001b[0m\u001b[0m\n\u001b[0m",
      "\u001b[1;31mNameError\u001b[0m: name 'To_dolist' is not defined"
     ]
    }
   ],
   "source": [
    "Complete_Tasklist =[To_dolist]\n"
   ]
  },
  {
   "cell_type": "code",
   "execution_count": 2,
   "metadata": {},
   "outputs": [
    {
     "name": "stdout",
     "output_type": "stream",
     "text": [
      "Enter complete task :Bath\n"
     ]
    },
    {
     "ename": "NameError",
     "evalue": "name 'To_dolist' is not defined",
     "output_type": "error",
     "traceback": [
      "\u001b[1;31m---------------------------------------------------------------------------\u001b[0m",
      "\u001b[1;31mNameError\u001b[0m                                 Traceback (most recent call last)",
      "\u001b[1;32m<ipython-input-2-af7b92a1ccfa>\u001b[0m in \u001b[0;36m<module>\u001b[1;34m\u001b[0m\n\u001b[0;32m      1\u001b[0m \u001b[0mAnswer\u001b[0m \u001b[1;33m=\u001b[0m \u001b[0mstr\u001b[0m\u001b[1;33m(\u001b[0m\u001b[0minput\u001b[0m\u001b[1;33m(\u001b[0m\u001b[1;34m\"Enter complete task :\"\u001b[0m\u001b[1;33m)\u001b[0m\u001b[1;33m)\u001b[0m\u001b[1;33m\u001b[0m\u001b[1;33m\u001b[0m\u001b[0m\n\u001b[1;32m----> 2\u001b[1;33m \u001b[1;32mif\u001b[0m \u001b[0mAnswer\u001b[0m \u001b[1;32min\u001b[0m \u001b[0mTo_dolist\u001b[0m \u001b[1;33m:\u001b[0m\u001b[1;33m\u001b[0m\u001b[1;33m\u001b[0m\u001b[0m\n\u001b[0m\u001b[0;32m      3\u001b[0m     \u001b[0mx\u001b[0m \u001b[1;33m=\u001b[0m \u001b[0mTo_dolist\u001b[0m\u001b[1;33m.\u001b[0m\u001b[0mindex\u001b[0m\u001b[1;33m(\u001b[0m\u001b[0mAnswer\u001b[0m\u001b[1;33m)\u001b[0m\u001b[1;33m\u001b[0m\u001b[1;33m\u001b[0m\u001b[0m\n\u001b[0;32m      4\u001b[0m     \u001b[0mTo_dolist\u001b[0m\u001b[1;33m.\u001b[0m\u001b[0mpop\u001b[0m\u001b[1;33m(\u001b[0m\u001b[0mx\u001b[0m\u001b[1;33m)\u001b[0m\u001b[1;33m\u001b[0m\u001b[1;33m\u001b[0m\u001b[0m\n\u001b[0;32m      5\u001b[0m     \u001b[0mComplete_Tasklist\u001b[0m\u001b[1;33m.\u001b[0m\u001b[0mappend\u001b[0m\u001b[1;33m(\u001b[0m\u001b[0mAnswer\u001b[0m\u001b[1;33m)\u001b[0m\u001b[1;33m\u001b[0m\u001b[1;33m\u001b[0m\u001b[0m\n",
      "\u001b[1;31mNameError\u001b[0m: name 'To_dolist' is not defined"
     ]
    }
   ],
   "source": [
    "Answer = str(input(\"Enter complete task :\"))\n",
    "if Answer in To_dolist :\n",
    "    x = To_dolist.index(Answer)\n",
    "    To_dolist.pop(x)\n",
    "    Complete_Tasklist.append(Answer)\n",
    "    print (\"To_do :\",To_dolist)\n",
    "    print (\"Complete_Task :\",Complete_Tasklsit)\n",
    "else : \n",
    "    print (\"Your Task is not in list\")"
   ]
  },
  {
   "cell_type": "markdown",
   "metadata": {},
   "source": [
    "SECOND"
   ]
  },
  {
   "cell_type": "markdown",
   "metadata": {},
   "source": [
    "# second To do list "
   ]
  },
  {
   "cell_type": "code",
   "execution_count": 19,
   "metadata": {},
   "outputs": [
    {
     "name": "stdout",
     "output_type": "stream",
     "text": [
      "enter any task do you perform :weak\n"
     ]
    },
    {
     "ename": "TypeError",
     "evalue": "'in <string>' requires string as left operand, not list",
     "output_type": "error",
     "traceback": [
      "\u001b[1;31m---------------------------------------------------------------------------\u001b[0m",
      "\u001b[1;31mTypeError\u001b[0m                                 Traceback (most recent call last)",
      "\u001b[1;32m<ipython-input-19-0fd0bfd6a021>\u001b[0m in \u001b[0;36m<module>\u001b[1;34m\u001b[0m\n\u001b[0;32m      2\u001b[0m \u001b[0mempty_list\u001b[0m \u001b[1;33m=\u001b[0m\u001b[1;33m[\u001b[0m\u001b[1;33m]\u001b[0m\u001b[1;33m\u001b[0m\u001b[1;33m\u001b[0m\u001b[0m\n\u001b[0;32m      3\u001b[0m \u001b[0mtask_select\u001b[0m \u001b[1;33m=\u001b[0m \u001b[0mstr\u001b[0m\u001b[1;33m(\u001b[0m\u001b[0minput\u001b[0m \u001b[1;33m(\u001b[0m\u001b[1;34m\"enter any task do you perform :\"\u001b[0m\u001b[1;33m)\u001b[0m\u001b[1;33m)\u001b[0m\u001b[1;33m\u001b[0m\u001b[1;33m\u001b[0m\u001b[0m\n\u001b[1;32m----> 4\u001b[1;33m \u001b[1;32mif\u001b[0m \u001b[0mtask_list\u001b[0m \u001b[1;32min\u001b[0m \u001b[0mtask_select\u001b[0m \u001b[1;33m:\u001b[0m\u001b[1;33m\u001b[0m\u001b[1;33m\u001b[0m\u001b[0m\n\u001b[0m\u001b[0;32m      5\u001b[0m \u001b[1;33m\u001b[0m\u001b[0m\n\u001b[0;32m      6\u001b[0m     \u001b[0mstore_task\u001b[0m \u001b[1;33m=\u001b[0m\u001b[0mtask_lsit\u001b[0m\u001b[1;33m.\u001b[0m\u001b[0mindex\u001b[0m\u001b[1;33m(\u001b[0m\u001b[0mtask_select\u001b[0m\u001b[1;33m)\u001b[0m\u001b[1;33m\u001b[0m\u001b[1;33m\u001b[0m\u001b[0m\n",
      "\u001b[1;31mTypeError\u001b[0m: 'in <string>' requires string as left operand, not list"
     ]
    }
   ],
   "source": [
    "task_list = ['weak','keep fast', 'take rest','offer namaz','take iftar']\n",
    "empty_list =[]\n",
    "task_select = str(input (\"enter any task do you perform :\"))\n",
    "if task_list in task_select :\n",
    "    \n",
    "    store_task =task_lsit.index(task_select)\n",
    "    task_list.pop(store_task)\n",
    "    empty_list.append(task_select)\n",
    "    print (\"your remaing task is :\",task_list)\n",
    "    print (\"your complete task :\",empty_list)\n",
    "else :\n",
    "    print (\" your task is not in lsit\")"
   ]
  },
  {
   "cell_type": "markdown",
   "metadata": {},
   "source": [
    "THIRD\n"
   ]
  },
  {
   "cell_type": "markdown",
   "metadata": {},
   "source": [
    "# Third task list"
   ]
  },
  {
   "cell_type": "code",
   "execution_count": 28,
   "metadata": {},
   "outputs": [
    {
     "name": "stdout",
     "output_type": "stream",
     "text": [
      "enter monthly task: rent\n",
      "your pending task is: ['bills', 'fuel', 'drycleaner']\n",
      "task you have complete : ['rent']\n"
     ]
    }
   ],
   "source": [
    "monthly_task_list =['rent','bills','fuel','drycleaner']\n",
    "empty_list=[]\n",
    "monthly_task_select= input(\"enter monthly task: \")\n",
    "if monthly_task_select in monthly_task_list :\n",
    "    monthly_store_task=monthly_task_list.index(monthly_task_select)\n",
    "    monthly_task_list.pop(monthly_store_task)\n",
    "    empty_list.append(monthly_task_select)\n",
    "    print (\"your pending task is:\",monthly_task_list)\n",
    "    print (\"task you have complete :\",empty_list)\n",
    "else :\n",
    "    print (\"task which is not defiined\")"
   ]
  },
  {
   "cell_type": "markdown",
   "metadata": {},
   "source": [
    "Fouth"
   ]
  },
  {
   "cell_type": "markdown",
   "metadata": {},
   "source": [
    "# to do list fourth\n"
   ]
  },
  {
   "cell_type": "code",
   "execution_count": 26,
   "metadata": {},
   "outputs": [
    {
     "name": "stdout",
     "output_type": "stream",
     "text": [
      "pakistan palying match today: idia\n",
      "task which is not defiined\n"
     ]
    }
   ],
   "source": [
    "icc_matches =['pakistan','india','austraila','westendies','newzeland','afganistan','england','srilanka','bangladesh','southafica']\n",
    "match_list=[]\n",
    "pakistan_match= input(\"pakistan palying match today: \")\n",
    "if pakistan_match in monthly_task_list :\n",
    "    matches_icc_list=icc_matches.index(pakistan_match)\n",
    "    \n",
    "    match_list.append(paksitan_match)\n",
    "    print (\"your pending task is:\",icc_matches)\n",
    "    print (\"task you have complete :\",match_lsit)\n",
    "else :\n",
    "    print (\"task which is not defiined\")"
   ]
  },
  {
   "cell_type": "markdown",
   "metadata": {},
   "source": [
    "FIFTH\n"
   ]
  },
  {
   "cell_type": "markdown",
   "metadata": {},
   "source": [
    "# login program\n",
    "\n"
   ]
  },
  {
   "cell_type": "code",
   "execution_count": 32,
   "metadata": {},
   "outputs": [
    {
     "ename": "SyntaxError",
     "evalue": "EOL while scanning string literal (<ipython-input-32-340d181d7dcf>, line 25)",
     "output_type": "error",
     "traceback": [
      "\u001b[1;36m  File \u001b[1;32m\"<ipython-input-32-340d181d7dcf>\"\u001b[1;36m, line \u001b[1;32m25\u001b[0m\n\u001b[1;33m    Gender =input (\"\\nGender : -Male or -Female : n\\\")\u001b[0m\n\u001b[1;37m                                                      ^\u001b[0m\n\u001b[1;31mSyntaxError\u001b[0m\u001b[1;31m:\u001b[0m EOL while scanning string literal\n"
     ]
    }
   ],
   "source": [
    "import getpasIs\n",
    "print('============================================================')\n",
    "print(\"t/t/ Registration foam of slick\")\n",
    "print('============================================================')\n",
    "user_name1 =input (\"\\n First Name:\")\n",
    "user_name2 =input (\"n Last Name:\")\n",
    "name =user_name1 + user_Name2\n",
    "pswd =getpass.getpass(\"\\n password:\")\n",
    "c_pswd1=getpass.getpass(\"n\\Confirm password:\")\n",
    "#print (c_pswd1)\n",
    "if pswd ==c_pswd1:\n",
    "    email=input(\"n\\Email: \")\n",
    "else :\n",
    "    print (\"your confirm password isnot match ! try again\")\n",
    "    c_pswd2 =getpass,getpass(\"n\\Confirm password:\")\n",
    "    #print (c_pswd2)\n",
    "    if pswd==c_pswd2:\n",
    "        email=input (\"n\\Email:\")\n",
    "    else :\n",
    "            forget =input (\"\\nForget password !\")\n",
    "            if (foget=='yes') or ( forget=='yes') or forget =='yes':\n",
    "                print(\"Check your password and try again to confirm it....\\n\",c_pswd1)\n",
    "                c_pswd=getpass.getpass('n\\Confirm password')\n",
    "                email=input (\"n\\Email :\")\n",
    "Gender =input (\"\\nGender : -Male or -Female : n\\\")\n",
    "print ('you have been registered on slack .!Now you can login on slack \\n\\n')\n",
    "                      \n",
    "                      \n",
    "                      \n",
    "print (\"==========================================================\")\n",
    "print (\"t\\t\\ Login Foam\")\n",
    "print (\"==========================================================\")                      \n",
    "\n",
    "user_name=input (\"User Name :\")\n",
    "if user_name==name :\n",
    "    password=getpass.getpass('password :')\n",
    "else :\n",
    "    print (\"name is incorrect\")\n",
    "if password ==pswd :\n",
    "    print (\"your user name password is correct\") \n",
    "if (user_name==name) and (password==pswd):\n",
    "    print (\"you have succesfully login..\")                  \n",
    "                      \n",
    "                      \n",
    "\n"
   ]
  },
  {
   "cell_type": "code",
   "execution_count": null,
   "metadata": {},
   "outputs": [],
   "source": []
  }
 ],
 "metadata": {
  "kernelspec": {
   "display_name": "Python 3",
   "language": "python",
   "name": "python3"
  },
  "language_info": {
   "codemirror_mode": {
    "name": "ipython",
    "version": 3
   },
   "file_extension": ".py",
   "mimetype": "text/x-python",
   "name": "python",
   "nbconvert_exporter": "python",
   "pygments_lexer": "ipython3",
   "version": "3.7.3"
  }
 },
 "nbformat": 4,
 "nbformat_minor": 2
}
