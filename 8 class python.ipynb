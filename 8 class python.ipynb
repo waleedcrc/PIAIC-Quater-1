{
 "cells": [
  {
   "cell_type": "markdown",
   "metadata": {},
   "source": [
    "# inheritance\n",
    "\n",
    "# code reuseability"
   ]
  },
  {
   "cell_type": "code",
   "execution_count": 2,
   "metadata": {},
   "outputs": [],
   "source": [
    "class Car():\n",
    "    def __init__(self,make,model,year):\n",
    "        self.make =make\n",
    "        self.model =model\n",
    "        self.year =year\n",
    "        self.odemeter_reading =0\n",
    "    def description(self):\n",
    "        full_name =f\"the name of car is {self.make}{self.model}{self.year}\"\n",
    "        return full_name\n",
    "    def read_odemeter(self):\n",
    "        print(f\"the car has run {self.odemeter_reading}miles\")\n",
    "    def update_odemeter(self,mileage):\n",
    "        self.odemeter_reading = mileage  "
   ]
  },
  {
   "cell_type": "code",
   "execution_count": 3,
   "metadata": {},
   "outputs": [],
   "source": [
    "class ElectricCar(Car):\n",
    "    pass"
   ]
  },
  {
   "cell_type": "code",
   "execution_count": 5,
   "metadata": {},
   "outputs": [],
   "source": [
    "eCar = ElectricCar ('abc','model',2019)"
   ]
  },
  {
   "cell_type": "code",
   "execution_count": 6,
   "metadata": {},
   "outputs": [
    {
     "data": {
      "text/plain": [
       "'the name of car is abcmodel2019'"
      ]
     },
     "execution_count": 6,
     "metadata": {},
     "output_type": "execute_result"
    }
   ],
   "source": [
    "eCar.description()"
   ]
  },
  {
   "cell_type": "code",
   "execution_count": 7,
   "metadata": {},
   "outputs": [
    {
     "data": {
      "text/plain": [
       "'model'"
      ]
     },
     "execution_count": 7,
     "metadata": {},
     "output_type": "execute_result"
    }
   ],
   "source": [
    "eCar.model"
   ]
  },
  {
   "cell_type": "code",
   "execution_count": 8,
   "metadata": {},
   "outputs": [
    {
     "data": {
      "text/plain": [
       "'abc'"
      ]
     },
     "execution_count": 8,
     "metadata": {},
     "output_type": "execute_result"
    }
   ],
   "source": [
    "eCar.make"
   ]
  },
  {
   "cell_type": "code",
   "execution_count": 10,
   "metadata": {},
   "outputs": [
    {
     "data": {
      "text/plain": [
       "0"
      ]
     },
     "execution_count": 10,
     "metadata": {},
     "output_type": "execute_result"
    }
   ],
   "source": [
    "eCar.odemeter_reading\n",
    "                     "
   ]
  },
  {
   "cell_type": "code",
   "execution_count": 11,
   "metadata": {},
   "outputs": [],
   "source": [
    "eCar.update_odemeter(566)"
   ]
  },
  {
   "cell_type": "code",
   "execution_count": 13,
   "metadata": {},
   "outputs": [
    {
     "name": "stdout",
     "output_type": "stream",
     "text": [
      "the car has run 566miles\n"
     ]
    }
   ],
   "source": [
    "eCar.read_odemeter()"
   ]
  },
  {
   "cell_type": "code",
   "execution_count": 14,
   "metadata": {},
   "outputs": [
    {
     "data": {
      "text/plain": [
       "566"
      ]
     },
     "execution_count": 14,
     "metadata": {},
     "output_type": "execute_result"
    }
   ],
   "source": [
    "eCar.odemeter_reading"
   ]
  },
  {
   "cell_type": "code",
   "execution_count": 20,
   "metadata": {},
   "outputs": [],
   "source": [
    "class ElectricCar(Car):\n",
    "    def __init__(self,make,model,year):\n",
    "        super().__init__(make,model,year)\n",
    "        self.BatterySize = 100\n",
    "        self.BatteryMan = 'Exide'\n",
    "    def getBatterySize (self):\n",
    "        print (f\"Battery size is : {self.BatterySize}\")\n",
    "          \n",
    "    def setBatterySize (self,newBatterySize):\n",
    "               self.BatterySize = newBatterySize"
   ]
  },
  {
   "cell_type": "code",
   "execution_count": 21,
   "metadata": {},
   "outputs": [
    {
     "data": {
      "text/plain": [
       "'the name of car is abcmodel2019'"
      ]
     },
     "execution_count": 21,
     "metadata": {},
     "output_type": "execute_result"
    }
   ],
   "source": [
    "eCar.description()"
   ]
  },
  {
   "cell_type": "code",
   "execution_count": 22,
   "metadata": {},
   "outputs": [],
   "source": [
    "eCar1 = ElectricCar('Honda','civic',2019)"
   ]
  },
  {
   "cell_type": "code",
   "execution_count": 24,
   "metadata": {},
   "outputs": [
    {
     "name": "stdout",
     "output_type": "stream",
     "text": [
      "Battery size is : 100\n"
     ]
    }
   ],
   "source": [
    "eCar1.getBatterySize()"
   ]
  },
  {
   "cell_type": "code",
   "execution_count": 25,
   "metadata": {},
   "outputs": [],
   "source": [
    "eCar1.setBatterySize(454)"
   ]
  },
  {
   "cell_type": "code",
   "execution_count": 27,
   "metadata": {},
   "outputs": [
    {
     "name": "stdout",
     "output_type": "stream",
     "text": [
      "Battery size is : 454\n"
     ]
    }
   ],
   "source": [
    "eCar1.getBatterySize()"
   ]
  },
  {
   "cell_type": "code",
   "execution_count": 8,
   "metadata": {},
   "outputs": [],
   "source": [
    "class restaurant():\n",
    "    def __init__(self,resName,cusineType):\n",
    "        self.resName =resName\n",
    "        self.cusineType = cusineType\n",
    "    def describe_restaurant (self):\n",
    "        print (f\"the name of restaurant is : {self.resName}\")\n",
    "        print (f\"the cusineType  is : {self.cusineType}\")\n",
    "    def open_restaurant (self):\n",
    "        print (f\"{self.resName}is open\")\n",
    "    def isopen(self,time):\n",
    "        if (time>24 or time<10):\n",
    "            \n",
    "            print (f\"{self.resName}is close\")\n",
    "        else:\n",
    "            print (f\"{self.resName}is open\")"
   ]
  },
  {
   "cell_type": "code",
   "execution_count": 9,
   "metadata": {},
   "outputs": [],
   "source": [
    "r1 = restaurant (\"chintown\",\"chinese\")"
   ]
  },
  {
   "cell_type": "code",
   "execution_count": 5,
   "metadata": {},
   "outputs": [
    {
     "name": "stdout",
     "output_type": "stream",
     "text": [
      "chintown\n",
      "chintown\n"
     ]
    }
   ],
   "source": [
    "print (r1.resName)\n",
    "print (r1.resName)\n"
   ]
  },
  {
   "cell_type": "code",
   "execution_count": 6,
   "metadata": {},
   "outputs": [
    {
     "name": "stdout",
     "output_type": "stream",
     "text": [
      "chinese\n"
     ]
    }
   ],
   "source": [
    "print (r1.cusineType)"
   ]
  },
  {
   "cell_type": "code",
   "execution_count": 7,
   "metadata": {},
   "outputs": [
    {
     "name": "stdout",
     "output_type": "stream",
     "text": [
      "the name of restaurant is : chintown\n",
      "the cusineType  is : chinese\n"
     ]
    }
   ],
   "source": [
    "r1.describe_restaurant()"
   ]
  },
  {
   "cell_type": "code",
   "execution_count": 13,
   "metadata": {},
   "outputs": [
    {
     "name": "stdout",
     "output_type": "stream",
     "text": [
      "chintownis open\n"
     ]
    }
   ],
   "source": [
    "r1.isopen(22)"
   ]
  },
  {
   "cell_type": "code",
   "execution_count": 11,
   "metadata": {},
   "outputs": [
    {
     "name": "stdout",
     "output_type": "stream",
     "text": [
      "chintownis close\n"
     ]
    }
   ],
   "source": [
    "r1.isopen(3)"
   ]
  },
  {
   "cell_type": "code",
   "execution_count": 96,
   "metadata": {},
   "outputs": [],
   "source": [
    "class restaurant():\n",
    "    def __init__(self,resName,cusineType):\n",
    "        self.resName =resName\n",
    "        self.cusineType = cusineType\n",
    "        self.numberServed = 0\n",
    "    def describe_restaurant (self):\n",
    "        print (f\"the name of restaurant is : {self.resName}\")\n",
    "        print (f\"the cusineType  is : {self.cusineType}\")\n",
    "    def open_restaurant (self):\n",
    "        print (f\"{self.resName}is open\")\n",
    "    def isopen(self,time):\n",
    "        if (time>24 or time<10):\n",
    "            \n",
    "            print (f\"{self.resName}is close\")\n",
    "        else:\n",
    "            print (f\"{self.resName}is open\")\n",
    "    def getnumberServed (self):\n",
    "        print (f\"{self.numberServed} customer has been served\")\n",
    "    def setnumberServed (self,numbers):\n",
    "        self.numberServed = numbers\n",
    "    def incrementServed (self,numbers):\n",
    "        self.numberServed += numbers\n",
    "        "
   ]
  },
  {
   "cell_type": "code",
   "execution_count": 97,
   "metadata": {},
   "outputs": [],
   "source": [
    "r2 = restaurant (\"kfc\",\"fast food\")"
   ]
  },
  {
   "cell_type": "code",
   "execution_count": 98,
   "metadata": {},
   "outputs": [
    {
     "data": {
      "text/plain": [
       "0"
      ]
     },
     "execution_count": 98,
     "metadata": {},
     "output_type": "execute_result"
    }
   ],
   "source": [
    "r2.numberServed"
   ]
  },
  {
   "cell_type": "code",
   "execution_count": 99,
   "metadata": {},
   "outputs": [
    {
     "data": {
      "text/plain": [
       "455"
      ]
     },
     "execution_count": 99,
     "metadata": {},
     "output_type": "execute_result"
    }
   ],
   "source": [
    "r2.numberServed = 455\n",
    "r2.numberServed"
   ]
  },
  {
   "cell_type": "code",
   "execution_count": 100,
   "metadata": {},
   "outputs": [
    {
     "name": "stdout",
     "output_type": "stream",
     "text": [
      "455 customer has been served\n"
     ]
    }
   ],
   "source": [
    "r2.getnumberServed()"
   ]
  },
  {
   "cell_type": "code",
   "execution_count": 101,
   "metadata": {},
   "outputs": [],
   "source": [
    "r2.setnumberServed(676)"
   ]
  },
  {
   "cell_type": "code",
   "execution_count": 102,
   "metadata": {},
   "outputs": [
    {
     "name": "stdout",
     "output_type": "stream",
     "text": [
      "676 customer has been served\n"
     ]
    }
   ],
   "source": [
    "r2.getnumberServed()"
   ]
  },
  {
   "cell_type": "code",
   "execution_count": 103,
   "metadata": {},
   "outputs": [
    {
     "name": "stdout",
     "output_type": "stream",
     "text": [
      "56 customer has been served\n"
     ]
    }
   ],
   "source": [
    "r2.setnumberServed(56)\n",
    "r2.getnumberServed()"
   ]
  },
  {
   "cell_type": "code",
   "execution_count": 105,
   "metadata": {},
   "outputs": [],
   "source": [
    "r2.incrementServed(34)"
   ]
  },
  {
   "cell_type": "code",
   "execution_count": 106,
   "metadata": {},
   "outputs": [
    {
     "name": "stdout",
     "output_type": "stream",
     "text": [
      "90 customer has been served\n"
     ]
    }
   ],
   "source": [
    "r2.getnumberServed()"
   ]
  },
  {
   "cell_type": "code",
   "execution_count": 107,
   "metadata": {},
   "outputs": [],
   "source": [
    "class icecreamstand (restaurant):\n",
    "    def __init__ (self ,resName,cusineType):\n",
    "        super().__init__(resName,cusineType)\n",
    "        self.flavours =['vanilla','mango','chocolate' ]\n",
    "    def getflavours (self):\n",
    "        print(f'flavours are:' )\n",
    "        for flavour in self.flavours :\n",
    "            print(flavour ,end = \" \")"
   ]
  },
  {
   "cell_type": "code",
   "execution_count": 108,
   "metadata": {},
   "outputs": [],
   "source": [
    "ice1 = icecreamstand ('peshawri','italianicecre')"
   ]
  },
  {
   "cell_type": "code",
   "execution_count": 109,
   "metadata": {},
   "outputs": [
    {
     "name": "stdout",
     "output_type": "stream",
     "text": [
      "peshawri\n",
      "italianicecre\n"
     ]
    }
   ],
   "source": [
    "print (ice1.resName)\n",
    "print (ice1.cusineType)"
   ]
  },
  {
   "cell_type": "code",
   "execution_count": 110,
   "metadata": {},
   "outputs": [
    {
     "data": {
      "text/plain": [
       "['vanilla', 'mango', 'chocolate']"
      ]
     },
     "execution_count": 110,
     "metadata": {},
     "output_type": "execute_result"
    }
   ],
   "source": [
    "ice1.flavours"
   ]
  },
  {
   "cell_type": "code",
   "execution_count": 111,
   "metadata": {},
   "outputs": [
    {
     "name": "stdout",
     "output_type": "stream",
     "text": [
      "flavours are:\n",
      "vanilla mango chocolate "
     ]
    }
   ],
   "source": [
    "ice1.getflavours()"
   ]
  },
  {
   "cell_type": "code",
   "execution_count": null,
   "metadata": {},
   "outputs": [],
   "source": [
    "class Car():\n",
    "    def __init__(self,make,model,year):\n",
    "        self.make =make\n",
    "        self.model =model\n",
    "        self.year =year\n",
    "        self.odemeter_reading =0\n",
    "    def description(self):\n",
    "        full_name =f\"the name of car is {self.make}{self.model}{self.year}\"\n",
    "        return full_name\n",
    "    def read_odemeter(self):\n",
    "        print(f\"the car has run {self.odemeter_reading}miles\")\n",
    "    def update_odemeter(self,mileage):\n",
    "        self.odemeter_reading = mileage  "
   ]
  },
  {
   "cell_type": "code",
   "execution_count": null,
   "metadata": {},
   "outputs": [],
   "source": [
    "class ElectricCar(Car):\n",
    "    def __init__(self,make,model,year):\n",
    "        super().__init__(make,model,year)\n",
    "        self.BatterySize = 100\n",
    "        self.BatteryMan = 'Exide'\n",
    "    def getBatterySize (self):\n",
    "        print (f\"Battery size is : {self.BatterySize}\")\n",
    "          \n",
    "    def setBatterySize (self,newBatterySize):\n",
    "               self.BatterySize = newBatterySize"
   ]
  },
  {
   "cell_type": "code",
   "execution_count": null,
   "metadata": {},
   "outputs": [],
   "source": []
  }
 ],
 "metadata": {
  "kernelspec": {
   "display_name": "Python 3",
   "language": "python",
   "name": "python3"
  },
  "language_info": {
   "codemirror_mode": {
    "name": "ipython",
    "version": 3
   },
   "file_extension": ".py",
   "mimetype": "text/x-python",
   "name": "python",
   "nbconvert_exporter": "python",
   "pygments_lexer": "ipython3",
   "version": "3.7.3"
  }
 },
 "nbformat": 4,
 "nbformat_minor": 2
}
