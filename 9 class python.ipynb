{
 "cells": [
  {
   "cell_type": "markdown",
   "metadata": {},
   "source": [
    "# File Handing"
   ]
  },
  {
   "cell_type": "code",
   "execution_count": 15,
   "metadata": {},
   "outputs": [],
   "source": [
    "with open ('abc.txt','w') as file_object: # w mean write \n",
    "    file_object.write('Helo PIAIC')"
   ]
  },
  {
   "cell_type": "code",
   "execution_count": 16,
   "metadata": {},
   "outputs": [
    {
     "ename": "FileNotFoundError",
     "evalue": "[Errno 2] No such file or directory: 'xyz.txt'",
     "output_type": "error",
     "traceback": [
      "\u001b[1;31m---------------------------------------------------------------------------\u001b[0m",
      "\u001b[1;31mFileNotFoundError\u001b[0m                         Traceback (most recent call last)",
      "\u001b[1;32m<ipython-input-16-d1355426c3cf>\u001b[0m in \u001b[0;36m<module>\u001b[1;34m\u001b[0m\n\u001b[1;32m----> 1\u001b[1;33m \u001b[1;32mwith\u001b[0m \u001b[0mopen\u001b[0m \u001b[1;33m(\u001b[0m\u001b[1;34m'xyz.txt'\u001b[0m\u001b[1;33m,\u001b[0m\u001b[1;34m'r'\u001b[0m\u001b[1;33m)\u001b[0m \u001b[1;32mas\u001b[0m \u001b[0masad\u001b[0m\u001b[1;33m:\u001b[0m \u001b[1;31m# r mean read\u001b[0m\u001b[1;33m\u001b[0m\u001b[1;33m\u001b[0m\u001b[0m\n\u001b[0m\u001b[0;32m      2\u001b[0m     \u001b[0mx\u001b[0m \u001b[1;33m=\u001b[0m \u001b[0masad\u001b[0m\u001b[1;33m.\u001b[0m\u001b[0mread\u001b[0m\u001b[1;33m\u001b[0m\u001b[1;33m\u001b[0m\u001b[0m\n",
      "\u001b[1;31mFileNotFoundError\u001b[0m: [Errno 2] No such file or directory: 'xyz.txt'"
     ]
    }
   ],
   "source": [
    "with open ('xyz.txt','r') as asad: # r mean read\n",
    "    x = asad.read"
   ]
  },
  {
   "cell_type": "code",
   "execution_count": 17,
   "metadata": {},
   "outputs": [
    {
     "name": "stdout",
     "output_type": "stream",
     "text": [
      "Helo PIAIC\n"
     ]
    }
   ],
   "source": [
    "with open ('abc.txt','r') as asad: \n",
    "    x = asad.read ()\n",
    "    \n",
    "print (x)    "
   ]
  },
  {
   "cell_type": "code",
   "execution_count": 18,
   "metadata": {},
   "outputs": [],
   "source": [
    "with open ('abc.txt','w') as asad:\n",
    "    \n",
    "    asad.write('Helo brother')"
   ]
  },
  {
   "cell_type": "code",
   "execution_count": 19,
   "metadata": {},
   "outputs": [
    {
     "name": "stdout",
     "output_type": "stream",
     "text": [
      "Helo brother\n"
     ]
    }
   ],
   "source": [
    "with open ('abc.txt','r') as asad: \n",
    "    x = asad.read ()\n",
    "    \n",
    "print (x)    "
   ]
  },
  {
   "cell_type": "code",
   "execution_count": 20,
   "metadata": {},
   "outputs": [],
   "source": [
    "with open ('abc.txt','a') as asad:# a mean append\n",
    "    \n",
    "    asad.write('Helo PIAIC')"
   ]
  },
  {
   "cell_type": "code",
   "execution_count": 21,
   "metadata": {},
   "outputs": [
    {
     "name": "stdout",
     "output_type": "stream",
     "text": [
      "Helo brotherHelo PIAIC\n"
     ]
    }
   ],
   "source": [
    "with open ('abc.txt','r') as asad: \n",
    "    x = asad.read ()\n",
    "    \n",
    "print (x)    "
   ]
  },
  {
   "cell_type": "code",
   "execution_count": 3,
   "metadata": {},
   "outputs": [],
   "source": [
    "with open ('students_info.txt','w') as student:\n",
    "    student.write ('name \\t\\t phone\\no \\t\\t cnic\\no')\n",
    "    "
   ]
  },
  {
   "cell_type": "code",
   "execution_count": null,
   "metadata": {},
   "outputs": [],
   "source": [
    "with open ('student_info' ,'a') as student:\n",
    "    for i  in range (1,10):\n",
    "        name = input (\"enter your name\")\n",
    "        phone_no = int(input(\"enter your number\"))\n",
    "        cnic_no = int(input(\"enter your cnic number\"))\n",
    "                            \n",
    "        student.write(f'{name} \\t\\t {phone_no} \\t\\t {cnic_no}\\n')"
   ]
  },
  {
   "cell_type": "code",
   "execution_count": null,
   "metadata": {},
   "outputs": [],
   "source": [
    "with open ('abc.txt','w') as file:\n",
    "    file.write ('hello world')"
   ]
  },
  {
   "cell_type": "code",
   "execution_count": 1,
   "metadata": {},
   "outputs": [
    {
     "name": "stdout",
     "output_type": "stream",
     "text": [
      "Helo brotherHelo PIAIC\n"
     ]
    }
   ],
   "source": [
    "with open ('abc.txt','r+') as file:\n",
    "    print (file.read())\n",
    "    file.write ('hello world')"
   ]
  },
  {
   "cell_type": "code",
   "execution_count": 4,
   "metadata": {},
   "outputs": [
    {
     "name": "stdout",
     "output_type": "stream",
     "text": [
      "hello asaderHelo PIAIChello world\n"
     ]
    }
   ],
   "source": [
    "with open ('abc.txt','r+') as file :\n",
    "    file.write( 'hello asad')\n",
    "    file.seek(0)\n",
    "    print (file.read())"
   ]
  },
  {
   "cell_type": "markdown",
   "metadata": {},
   "source": [
    "# error and expection handing"
   ]
  },
  {
   "cell_type": "code",
   "execution_count": 5,
   "metadata": {},
   "outputs": [
    {
     "name": "stdout",
     "output_type": "stream",
     "text": [
      "hello\n"
     ]
    }
   ],
   "source": [
    "5/8\n",
    "print ('hello')"
   ]
  },
  {
   "cell_type": "code",
   "execution_count": 1,
   "metadata": {},
   "outputs": [
    {
     "name": "stdout",
     "output_type": "stream",
     "text": [
      "enter a number5\n",
      "enter a number0\n",
      "execption is caught zero division error \n"
     ]
    }
   ],
   "source": [
    "\n",
    "\n",
    "a = int (input('enter a number'))\n",
    "b = int (input('enter a number'))\n",
    "try :\n",
    "    c =a/b\n",
    "    print (c)\n",
    "except ZeroDivisionError :\n",
    "    print ('execption is caught zero division error ')\n"
   ]
  },
  {
   "cell_type": "code",
   "execution_count": 3,
   "metadata": {},
   "outputs": [
    {
     "name": "stdout",
     "output_type": "stream",
     "text": [
      "enter a number5\n",
      "enter a number0\n",
      "handled zero division error \n"
     ]
    }
   ],
   "source": [
    "\n",
    "\n",
    "a = int (input('enter a number'))\n",
    "b = int (input('enter a number'))\n",
    "try :\n",
    "    c =a/b\n",
    "    print (c)\n",
    "except ZeroDivisionError :\n",
    "    print ('handled zero division error ')\n",
    "else :\n",
    "    print ('else ' +str(c) )"
   ]
  },
  {
   "cell_type": "code",
   "execution_count": 4,
   "metadata": {},
   "outputs": [
    {
     "name": "stdout",
     "output_type": "stream",
     "text": [
      "enter a number45\n",
      "enter a number67\n",
      "0.6716417910447762\n",
      "else 0.6716417910447762\n"
     ]
    }
   ],
   "source": [
    "\n",
    "\n",
    "a = int (input('enter a number'))\n",
    "b = int (input('enter a number'))\n",
    "try :\n",
    "    c =a/b\n",
    "    print (c)\n",
    "except ZeroDivisionError :\n",
    "    print ('handled zero division error ')\n",
    "else :\n",
    "    print ('else ' +str(c) )"
   ]
  },
  {
   "cell_type": "code",
   "execution_count": 6,
   "metadata": {},
   "outputs": [
    {
     "name": "stdout",
     "output_type": "stream",
     "text": [
      "enter a number4\n",
      "enter a number0\n",
      "expection is caught  zero division error \n"
     ]
    }
   ],
   "source": [
    "\n",
    "\n",
    "a = int (input('enter a number'))\n",
    "b = int (input('enter a number'))\n",
    "d =[]\n",
    "try :\n",
    "    c =a/b\n",
    "    e =d[5]\n",
    "    print (e)\n",
    "except ZeroDivisionError :# type z and press tab to get list  of exception \n",
    "    print ('expection is caught  zero division error ')\n",
    "except IndexError :             #type i and press tab to get list \n",
    "    print ('expection is caught is list out of range ')\n",
    "else :\n",
    "    print (c)\n",
    "    print (e)"
   ]
  },
  {
   "cell_type": "code",
   "execution_count": 1,
   "metadata": {},
   "outputs": [
    {
     "name": "stdout",
     "output_type": "stream",
     "text": [
      "enter a number2\n",
      "enter a number5\n",
      "222\n",
      "0.4\n",
      "222\n"
     ]
    }
   ],
   "source": [
    "\n",
    "\n",
    "a = int (input('enter a number'))\n",
    "b = int (input('enter a number'))\n",
    "d =[2,45,222]\n",
    "try :\n",
    "    c =a/b\n",
    "    e =d[2]\n",
    "    print (e)\n",
    "except ZeroDivisionError :# type z and press tab to get list  of exception \n",
    "    print ('expection is caught  zero division error ')\n",
    "except IndexError :             #type i and press tab to get list \n",
    "    print ('expection is caught is list out of range ')\n",
    "else :\n",
    "    print (c)\n",
    "    print (e)"
   ]
  },
  {
   "cell_type": "code",
   "execution_count": 6,
   "metadata": {},
   "outputs": [
    {
     "name": "stdout",
     "output_type": "stream",
     "text": [
      "enter a number5\n",
      "enter a number7\\\n",
      "expection is caught  \n"
     ]
    }
   ],
   "source": [
    "\n",
    "\n",
    "#a = int (input('enter a number'))\n",
    "#b = int (input('enter a number'))\n",
    "d =[]\n",
    "try :\n",
    "    a = int (input('enter a number'))\n",
    "    b = int (input('enter a number'))\n",
    "    c =a/b\n",
    "    e = d[5]\n",
    "except : # here did not explain the type of expection.\n",
    "         #be used means it will catch every of expection\n",
    "    print ('expection is caught  ')\n",
    "else :\n",
    "    \n",
    "    print (c)"
   ]
  },
  {
   "cell_type": "code",
   "execution_count": 7,
   "metadata": {},
   "outputs": [
    {
     "name": "stdout",
     "output_type": "stream",
     "text": [
      "enter a number3\n",
      "enter a number2\n",
      "finally  always runs\n"
     ]
    },
    {
     "ename": "IndexError",
     "evalue": "list index out of range",
     "output_type": "error",
     "traceback": [
      "\u001b[1;31m---------------------------------------------------------------------------\u001b[0m",
      "\u001b[1;31mIndexError\u001b[0m                                Traceback (most recent call last)",
      "\u001b[1;32m<ipython-input-7-1f7c4282e3fb>\u001b[0m in \u001b[0;36m<module>\u001b[1;34m\u001b[0m\n\u001b[0;32m      6\u001b[0m \u001b[1;32mtry\u001b[0m \u001b[1;33m:\u001b[0m\u001b[1;33m\u001b[0m\u001b[1;33m\u001b[0m\u001b[0m\n\u001b[0;32m      7\u001b[0m     \u001b[0mc\u001b[0m \u001b[1;33m=\u001b[0m\u001b[0ma\u001b[0m\u001b[1;33m/\u001b[0m\u001b[0mb\u001b[0m\u001b[1;33m\u001b[0m\u001b[1;33m\u001b[0m\u001b[0m\n\u001b[1;32m----> 8\u001b[1;33m     \u001b[0me\u001b[0m \u001b[1;33m=\u001b[0m\u001b[0md\u001b[0m\u001b[1;33m[\u001b[0m\u001b[1;36m5\u001b[0m\u001b[1;33m]\u001b[0m\u001b[1;33m\u001b[0m\u001b[1;33m\u001b[0m\u001b[0m\n\u001b[0m\u001b[0;32m      9\u001b[0m \u001b[1;32mexcept\u001b[0m \u001b[0mZeroDivisionError\u001b[0m \u001b[1;33m:\u001b[0m\u001b[1;33m\u001b[0m\u001b[1;33m\u001b[0m\u001b[0m\n\u001b[0;32m     10\u001b[0m     \u001b[0mprint\u001b[0m \u001b[1;33m(\u001b[0m\u001b[1;34m'handled zero division error '\u001b[0m\u001b[1;33m)\u001b[0m\u001b[1;33m\u001b[0m\u001b[1;33m\u001b[0m\u001b[0m\n",
      "\u001b[1;31mIndexError\u001b[0m: list index out of range"
     ]
    }
   ],
   "source": [
    "\n",
    "\n",
    "a = int (input('enter a number'))\n",
    "b = int (input('enter a number'))\n",
    "d =[5]\n",
    "try :\n",
    "    c =a/b\n",
    "    e =d[5]\n",
    "except ZeroDivisionError :\n",
    "    print ('handled zero division error ')\n",
    "else :\n",
    "    print (c) \n",
    "finally :\n",
    "    print('finally  always runs')"
   ]
  },
  {
   "cell_type": "code",
   "execution_count": 8,
   "metadata": {},
   "outputs": [],
   "source": [
    "class student ():\n",
    "    def __init__(self,name,age):\n",
    "        if age > 80:\n",
    "            raise Exception ('age can be not be greter than 80 ')\n",
    "        self.name =name\n",
    "        self.age =age\n",
    "        "
   ]
  },
  {
   "cell_type": "code",
   "execution_count": null,
   "metadata": {},
   "outputs": [],
   "source": [
    "try:\n",
    "    age =int(input('enter your age'))\n",
    "    st =students ('hello',age)"
   ]
  }
 ],
 "metadata": {
  "kernelspec": {
   "display_name": "Python 3",
   "language": "python",
   "name": "python3"
  },
  "language_info": {
   "codemirror_mode": {
    "name": "ipython",
    "version": 3
   },
   "file_extension": ".py",
   "mimetype": "text/x-python",
   "name": "python",
   "nbconvert_exporter": "python",
   "pygments_lexer": "ipython3",
   "version": "3.7.3"
  }
 },
 "nbformat": 4,
 "nbformat_minor": 2
}
