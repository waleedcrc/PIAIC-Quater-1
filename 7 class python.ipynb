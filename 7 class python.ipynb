{
 "cells": [
  {
   "cell_type": "markdown",
   "metadata": {},
   "source": [
    "#  object oriented programing"
   ]
  },
  {
   "cell_type": "code",
   "execution_count": 1,
   "metadata": {},
   "outputs": [],
   "source": [
    "#they reduce code and easily find error#all thing are object ,object means instant in programming , jo bhe phelay chees banay ge \n",
    "# woh (class) khalay ge or us copy banay ge usy object kahe ge (object is instant of class)"
   ]
  },
  {
   "cell_type": "code",
   "execution_count": 27,
   "metadata": {},
   "outputs": [],
   "source": [
    "class Patient ():\n",
    "    def __init__(self,name,gender,age,disease):\n",
    "        \n",
    "        #Attributes khelaty hai\n",
    "        self.patient_name = name\n",
    "        self.patient_gender = gender\n",
    "        self.patient_age = age\n",
    "        self.patient_disease = disease\n",
    "        \n",
    "        #behaviours jo action perform kr sakta hai woh behaviours khela ta hai  >>>>function\n",
    "    def takes_med(self):\n",
    "        print (f\"{self.patient_name} is taking medicine\")\n",
    "    def deposit_fee(self):\n",
    "        print (f\"{self.patient_name} is taking fee\")\n",
    "    def take_rest(self):\n",
    "        print (f\"{self.patient_name} is taking rest\")\n",
    "    def can_die(self):\n",
    "        print (f\"{self.patient_name} is taking dead\")"
   ]
  },
  {
   "cell_type": "code",
   "execution_count": 28,
   "metadata": {},
   "outputs": [],
   "source": [
    "p123 = patient (\"gabbar\",\"male\",50,\"sugar\")"
   ]
  },
  {
   "cell_type": "code",
   "execution_count": 29,
   "metadata": {},
   "outputs": [],
   "source": [
    "p124 = patient (\"samba\",\"male\",40,\"malaria\")"
   ]
  },
  {
   "cell_type": "code",
   "execution_count": 30,
   "metadata": {},
   "outputs": [
    {
     "data": {
      "text/plain": [
       "'gabbar'"
      ]
     },
     "execution_count": 30,
     "metadata": {},
     "output_type": "execute_result"
    }
   ],
   "source": [
    "p123.patient_name"
   ]
  },
  {
   "cell_type": "code",
   "execution_count": 31,
   "metadata": {},
   "outputs": [
    {
     "name": "stdout",
     "output_type": "stream",
     "text": [
      "gabbar is taking fee\n"
     ]
    }
   ],
   "source": [
    "p123.deposit_fee()"
   ]
  },
  {
   "cell_type": "code",
   "execution_count": 32,
   "metadata": {},
   "outputs": [
    {
     "data": {
      "text/plain": [
       "'malaria'"
      ]
     },
     "execution_count": 32,
     "metadata": {},
     "output_type": "execute_result"
    }
   ],
   "source": [
    "p124.patient_disease"
   ]
  },
  {
   "cell_type": "code",
   "execution_count": 33,
   "metadata": {},
   "outputs": [
    {
     "name": "stdout",
     "output_type": "stream",
     "text": [
      "samba is taking fee\n"
     ]
    }
   ],
   "source": [
    "p124.deposit_fee()\n"
   ]
  },
  {
   "cell_type": "code",
   "execution_count": 64,
   "metadata": {},
   "outputs": [],
   "source": [
    "class Student():\n",
    "    def __init__(self,name,gender,age):\n",
    "        self.student_name = name\n",
    "        self.student_gender = gender\n",
    "        self.student_age = age  \n",
    "    def take_class(self):\n",
    "        print(f\"{self.student_name} is taking class\")\n",
    "    def deposit_fee(self):\n",
    "        print(f\"{self.student_name} is paying fee\")\n",
    "    def buying_notes(self):\n",
    "        print(f\"{self.student_name} is buying notes\")\n",
    "    "
   ]
  },
  {
   "cell_type": "code",
   "execution_count": 65,
   "metadata": {},
   "outputs": [],
   "source": [
    "s123 = Student(\"ali\",\"male\",60)"
   ]
  },
  {
   "cell_type": "code",
   "execution_count": null,
   "metadata": {
    "collapsed": true
   },
   "outputs": [],
   "source": []
  },
  {
   "cell_type": "markdown",
   "metadata": {},
   "source": [
    "# another example"
   ]
  },
  {
   "cell_type": "code",
   "execution_count": 68,
   "metadata": {},
   "outputs": [],
   "source": [
    "class Car():\n",
    "    def __init__(self,make,model,year=2019):\n",
    "        self.make =make\n",
    "        self.model =model\n",
    "        self.year =year\n",
    "    def description(self):\n",
    "        full_name =f\"the name of car is {self.make}{self.model}{self.year}\"\n",
    "        return full_name"
   ]
  },
  {
   "cell_type": "code",
   "execution_count": 69,
   "metadata": {},
   "outputs": [],
   "source": [
    "xyzCar = (\"city\",\"xli\",)"
   ]
  },
  {
   "cell_type": "markdown",
   "metadata": {},
   "source": [
    "# adding a default value to attribute"
   ]
  },
  {
   "cell_type": "code",
   "execution_count": 10,
   "metadata": {},
   "outputs": [],
   "source": [
    "class Car():\n",
    "    def __init__(self,make,model,year):\n",
    "        self.make =make\n",
    "        self.model =model\n",
    "        self.year =year\n",
    "        self.odemeter_reading =0\n",
    "    def description(self):\n",
    "        full_name =f\"the name of car is {self.make}{self.model}{self.year}\"\n",
    "        return full_name\n",
    "    def read_odemeter(self):\n",
    "        print(f\"the car has run {self.odemeter_reading}miles\")\n",
    "    def update_odemeter(self,mileage):\n",
    "        self.odemeter_reading = mileage  "
   ]
  },
  {
   "cell_type": "code",
   "execution_count": 8,
   "metadata": {},
   "outputs": [],
   "source": [
    "abccar1 = Car (\"corolla\",\"xli\",2016)"
   ]
  },
  {
   "cell_type": "code",
   "execution_count": 11,
   "metadata": {},
   "outputs": [],
   "source": [
    "abccar1.odemeter_reading =676"
   ]
  },
  {
   "cell_type": "code",
   "execution_count": 12,
   "metadata": {},
   "outputs": [
    {
     "data": {
      "text/plain": [
       "676"
      ]
     },
     "execution_count": 12,
     "metadata": {},
     "output_type": "execute_result"
    }
   ],
   "source": [
    "abccar1.odemeter_reading"
   ]
  },
  {
   "cell_type": "code",
   "execution_count": null,
   "metadata": {},
   "outputs": [],
   "source": []
  },
  {
   "cell_type": "code",
   "execution_count": null,
   "metadata": {},
   "outputs": [],
   "source": []
  },
  {
   "cell_type": "markdown",
   "metadata": {},
   "source": [
    "# inheritance"
   ]
  },
  {
   "cell_type": "code",
   "execution_count": 16,
   "metadata": {},
   "outputs": [],
   "source": [
    "class ElectricCar(Car):\n",
    "    def __init__(self,make,model,year):\n",
    "        super().__init__(make,model,year)\n",
    "        \n",
    "my_tesla = ElectricCar('tesla','model',2016)\n",
    "\n",
    "#print(my_tesla.description())"
   ]
  },
  {
   "cell_type": "code",
   "execution_count": 19,
   "metadata": {},
   "outputs": [],
   "source": [
    "my_tesla.description()\n",
    "my_tesla.make\n",
    "my_tesla.model\n",
    "my_tesla.odemeter_reading\n",
    "my_tesla.read_odemeter=987896"
   ]
  },
  {
   "cell_type": "code",
   "execution_count": null,
   "metadata": {},
   "outputs": [],
   "source": []
  },
  {
   "cell_type": "code",
   "execution_count": null,
   "metadata": {},
   "outputs": [],
   "source": []
  }
 ],
 "metadata": {
  "kernelspec": {
   "display_name": "Python 3",
   "language": "python",
   "name": "python3"
  },
  "language_info": {
   "codemirror_mode": {
    "name": "ipython",
    "version": 3
   },
   "file_extension": ".py",
   "mimetype": "text/x-python",
   "name": "python",
   "nbconvert_exporter": "python",
   "pygments_lexer": "ipython3",
   "version": "3.7.3"
  }
 },
 "nbformat": 4,
 "nbformat_minor": 2
}
