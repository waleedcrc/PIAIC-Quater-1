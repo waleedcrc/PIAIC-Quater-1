{
 "cells": [
  {
   "cell_type": "markdown",
   "metadata": {},
   "source": [
    "# Home Assingment\n"
   ]
  },
  {
   "cell_type": "code",
   "execution_count": 1,
   "metadata": {},
   "outputs": [
    {
     "name": "stdout",
     "output_type": "stream",
     "text": [
      "what is your age 12\n",
      "you dont have a allow\n"
     ]
    }
   ],
   "source": [
    "age =int ( input('what is your age '))\n",
    "if age>= 20 :\n",
    "    name = input ('what is your name :')\n",
    "    father_name = input ('what is your father name :')\n",
    "    nic = input('do you have a nic :')\n",
    "    voter = input ('voter list check :')\n",
    "    partner = input (' do you have partner :')\n",
    "    movie = input (' do you have a ticket :')\n",
    "    if name ==('sheikh waleed ') and father_name ('sheikh khalid') and nic ==('yes') and voter == ('yes') and partner ==('yes') and movie == ('yes'):\n",
    "        \n",
    "        print ('do you have a permission')\n",
    "    else :\n",
    "        print ('take these thing first')\n",
    "else :\n",
    "    print ('you dont have a allow')\n",
    "    "
   ]
  },
  {
   "cell_type": "markdown",
   "metadata": {},
   "source": [
    "# ATM assingment\n"
   ]
  },
  {
   "cell_type": "code",
   "execution_count": null,
   "metadata": {},
   "outputs": [],
   "source": []
  },
  {
   "cell_type": "code",
   "execution_count": 10,
   "metadata": {},
   "outputs": [
    {
     "name": "stdout",
     "output_type": "stream",
     "text": [
      " please enter account number :1234\n",
      "please enter pin code :123\n"
     ]
    },
    {
     "ename": "NameError",
     "evalue": "name 'amount' is not defined",
     "output_type": "error",
     "traceback": [
      "\u001b[1;31m---------------------------------------------------------------------------\u001b[0m",
      "\u001b[1;31mNameError\u001b[0m                                 Traceback (most recent call last)",
      "\u001b[1;32m<ipython-input-10-43fe2bc85507>\u001b[0m in \u001b[0;36m<module>\u001b[1;34m\u001b[0m\n\u001b[0;32m     12\u001b[0m \u001b[1;32melse\u001b[0m \u001b[1;33m:\u001b[0m\u001b[1;33m\u001b[0m\u001b[1;33m\u001b[0m\u001b[0m\n\u001b[0;32m     13\u001b[0m     \u001b[0mprint\u001b[0m \u001b[1;33m(\u001b[0m\u001b[1;34m'please correct your information '\u001b[0m\u001b[1;33m)\u001b[0m\u001b[1;33m\u001b[0m\u001b[1;33m\u001b[0m\u001b[0m\n\u001b[1;32m---> 14\u001b[1;33m \u001b[0mbalance\u001b[0m\u001b[1;33m=\u001b[0m \u001b[0mbalance\u001b[0m \u001b[1;33m-\u001b[0m \u001b[0mamount\u001b[0m\u001b[1;33m\u001b[0m\u001b[1;33m\u001b[0m\u001b[0m\n\u001b[0m\u001b[0;32m     15\u001b[0m \u001b[0mprint\u001b[0m \u001b[1;33m(\u001b[0m\u001b[1;34m'your current balance is '\u001b[0m \u001b[1;33m+\u001b[0m \u001b[0mstr\u001b[0m \u001b[1;33m(\u001b[0m\u001b[0mbalance\u001b[0m\u001b[1;33m)\u001b[0m\u001b[1;33m)\u001b[0m\u001b[1;33m\u001b[0m\u001b[1;33m\u001b[0m\u001b[0m\n",
      "\u001b[1;31mNameError\u001b[0m: name 'amount' is not defined"
     ]
    }
   ],
   "source": [
    "balance=100000\n",
    "acc_no = int(input(' please enter account number :'))\n",
    "if acc_no ==(1234):\n",
    "    pincode = int(input('please enter pin code :'))\n",
    "    if pincode ==('123'):\n",
    "        print ('enter amount ')\n",
    "        amount =int(input('please Enter amount :'))\n",
    "        if amount<= int (balance) :\n",
    "            print ('collect your cash')\n",
    "        else :\n",
    "            print ('you dont have amount ')\n",
    "else :\n",
    "    print ('please correct your information ')\n",
    "balance= balance - amount\n",
    "print ('your current balance is ' + str (balance))\n"
   ]
  },
  {
   "cell_type": "code",
   "execution_count": null,
   "metadata": {},
   "outputs": [],
   "source": []
  },
  {
   "cell_type": "code",
   "execution_count": null,
   "metadata": {},
   "outputs": [],
   "source": []
  }
 ],
 "metadata": {
  "kernelspec": {
   "display_name": "Python 3",
   "language": "python",
   "name": "python3"
  },
  "language_info": {
   "codemirror_mode": {
    "name": "ipython",
    "version": 3
   },
   "file_extension": ".py",
   "mimetype": "text/x-python",
   "name": "python",
   "nbconvert_exporter": "python",
   "pygments_lexer": "ipython3",
   "version": "3.7.3"
  }
 },
 "nbformat": 4,
 "nbformat_minor": 2
}
