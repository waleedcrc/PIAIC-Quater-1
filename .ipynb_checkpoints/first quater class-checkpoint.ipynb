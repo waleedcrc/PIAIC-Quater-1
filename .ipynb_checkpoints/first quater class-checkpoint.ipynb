{
 "cells": [
  {
   "cell_type": "markdown",
   "metadata": {},
   "source": [
    "# Python first class"
   ]
  },
  {
   "cell_type": "markdown",
   "metadata": {},
   "source": [
    "first classs"
   ]
  },
  {
   "cell_type": "code",
   "execution_count": 4,
   "metadata": {},
   "outputs": [
    {
     "name": "stdout",
     "output_type": "stream",
     "text": [
      "123 4.3 hello True\n"
     ]
    }
   ],
   "source": [
    "print(123, 4.3, 'hello', True)"
   ]
  },
  {
   "cell_type": "code",
   "execution_count": 8,
   "metadata": {},
   "outputs": [
    {
     "name": "stdout",
     "output_type": "stream",
     "text": [
      "123 2.3 hello PIAIC True  "
     ]
    }
   ],
   "source": [
    "print(123,2.3 ,'hello PIAIC', True, end='  ')"
   ]
  },
  {
   "cell_type": "code",
   "execution_count": 1,
   "metadata": {},
   "outputs": [
    {
     "name": "stdout",
     "output_type": "stream",
     "text": [
      "123 2.3 hello PIAIC True"
     ]
    }
   ],
   "source": [
    "print(123,2.3 ,'hello PIAIC', True, end='')"
   ]
  },
  {
   "cell_type": "code",
   "execution_count": 2,
   "metadata": {},
   "outputs": [
    {
     "name": "stdout",
     "output_type": "stream",
     "text": [
      "1232.3hello PIAICTrue\n"
     ]
    }
   ],
   "source": [
    "print(123,2.3 ,'hello PIAIC',sep='')"
   ]
  },
  {
   "cell_type": "code",
   "execution_count": 3,
   "metadata": {},
   "outputs": [
    {
     "name": "stdout",
     "output_type": "stream",
     "text": [
      "hello world\n",
      "hello PIAIC\n",
      "hello anaconda\n"
     ]
    }
   ],
   "source": [
    "print('hello world')\n",
    "print('hello PIAIC')\n",
    "print('hello anaconda')\n",
    "      "
   ]
  },
  {
   "cell_type": "code",
   "execution_count": 7,
   "metadata": {},
   "outputs": [
    {
     "name": "stdout",
     "output_type": "stream",
     "text": [
      "hello worldhello PIAIChello anaconda\n"
     ]
    }
   ],
   "source": [
    "print('hello world'  ,end='')\n",
    "print('hello PIAIC'   ,end='')\n",
    "print('hello anaconda')\n",
    "                  "
   ]
  }
 ],
 "metadata": {
  "kernelspec": {
   "display_name": "Python 3",
   "language": "python",
   "name": "python3"
  },
  "language_info": {
   "codemirror_mode": {
    "name": "ipython",
    "version": 3
   },
   "file_extension": ".py",
   "mimetype": "text/x-python",
   "name": "python",
   "nbconvert_exporter": "python",
   "pygments_lexer": "ipython3",
   "version": "3.7.3"
  }
 },
 "nbformat": 4,
 "nbformat_minor": 2
}
