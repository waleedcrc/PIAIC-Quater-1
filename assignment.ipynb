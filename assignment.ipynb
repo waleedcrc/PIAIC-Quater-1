{
 "cells": [
  {
   "cell_type": "markdown",
   "metadata": {},
   "source": [
    " # python course assignment"
   ]
  },
  {
   "cell_type": "code",
   "execution_count": 1,
   "metadata": {},
   "outputs": [
    {
     "ename": "SyntaxError",
     "evalue": "invalid syntax (<ipython-input-1-3b2d2c6868fc>, line 4)",
     "output_type": "error",
     "traceback": [
      "\u001b[1;36m  File \u001b[1;32m\"<ipython-input-1-3b2d2c6868fc>\"\u001b[1;36m, line \u001b[1;32m4\u001b[0m\n\u001b[1;33m    else :\u001b[0m\n\u001b[1;37m       ^\u001b[0m\n\u001b[1;31mSyntaxError\u001b[0m\u001b[1;31m:\u001b[0m invalid syntax\n"
     ]
    }
   ],
   "source": [
    "def computepay(h,r):\n",
    "    if (h>40):\n",
    "        value =(((h-40)  * 1.5 ) +40)*r\n",
    "        else :\n",
    "            value =h * r\n",
    "        return value\n",
    "    hours = raw_input (\"Enter hours\")\n",
    "    rate  = raw_input (\"Enter rate :\")\n",
    "    \n",
    "try :\n",
    "    \n",
    "    hours = float (hours)\n",
    "    rate  = float (rate )\n",
    "except exception,e:\n",
    "    print \"Enter a valid float value\"\n",
    "    quit()\n",
    "    \n",
    "p =compoutepay(hours,rate)\n",
    "print p"
   ]
  },
  {
   "cell_type": "code",
   "execution_count": 2,
   "metadata": {},
   "outputs": [
    {
     "ename": "SyntaxError",
     "evalue": "invalid syntax (<ipython-input-2-f13e8c6ea952>, line 1)",
     "output_type": "error",
     "traceback": [
      "\u001b[1;36m  File \u001b[1;32m\"<ipython-input-2-f13e8c6ea952>\"\u001b[1;36m, line \u001b[1;32m1\u001b[0m\n\u001b[1;33m    def.clear()\u001b[0m\n\u001b[1;37m       ^\u001b[0m\n\u001b[1;31mSyntaxError\u001b[0m\u001b[1;31m:\u001b[0m invalid syntax\n"
     ]
    }
   ],
   "source": [
    "def.clear()"
   ]
  },
  {
   "cell_type": "code",
   "execution_count": 9,
   "metadata": {},
   "outputs": [
    {
     "ename": "SyntaxError",
     "evalue": "invalid syntax (<ipython-input-9-76b4abab984c>, line 6)",
     "output_type": "error",
     "traceback": [
      "\u001b[1;36m  File \u001b[1;32m\"<ipython-input-9-76b4abab984c>\"\u001b[1;36m, line \u001b[1;32m6\u001b[0m\n\u001b[1;33m    if 0.0 < = score   < 0.6:\u001b[0m\n\u001b[1;37m             ^\u001b[0m\n\u001b[1;31mSyntaxError\u001b[0m\u001b[1;31m:\u001b[0m invalid syntax\n"
     ]
    }
   ],
   "source": [
    "try :\n",
    "    inp = input ('please enter a score:')\n",
    "    score =float (inp)\n",
    "except :\n",
    "    print ('please enter a score number between 0.0. and 1.0')\n",
    "if 0.0 < = score   < 0.6:\n",
    "    print (\"F\")\n",
    "elif 1.0 > score > = 0.9 :\n",
    "    print (\"A\")\n",
    "elif 0.9 > score > = 0.8 : \n",
    "    print (\"B\")\n",
    "elif 0.8 > score > = 0.7 :\n",
    "    print (\"C\")\n",
    "elif 0.7 > score > = 0.6 :\n",
    "    print (\"D\")\n",
    "else :\n",
    "    print (\"your score is not in the o-1 range.\")\n",
    " "
   ]
  },
  {
   "cell_type": "code",
   "execution_count": null,
   "metadata": {},
   "outputs": [],
   "source": []
  },
  {
   "cell_type": "code",
   "execution_count": null,
   "metadata": {},
   "outputs": [],
   "source": []
  }
 ],
 "metadata": {
  "kernelspec": {
   "display_name": "Python 3",
   "language": "python",
   "name": "python3"
  },
  "language_info": {
   "codemirror_mode": {
    "name": "ipython",
    "version": 3
   },
   "file_extension": ".py",
   "mimetype": "text/x-python",
   "name": "python",
   "nbconvert_exporter": "python",
   "pygments_lexer": "ipython3",
   "version": "3.7.3"
  }
 },
 "nbformat": 4,
 "nbformat_minor": 2
}
