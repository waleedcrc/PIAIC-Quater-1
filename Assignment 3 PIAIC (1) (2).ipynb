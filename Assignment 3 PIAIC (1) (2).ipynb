{
 "cells": [
  {
   "cell_type": "code",
   "execution_count": null,
   "metadata": {},
   "outputs": [],
   "source": [
    "#Name:Osama Ansari\n",
    "#Roll no:AIC000082\n",
    "#Centre:SAIMS(SUNDAY(3:30-6:30))\n",
    "#Teacher:Sir Nasir\n",
    "#Q.1\n",
    "pizzalist=['Alfredo','Crispy sage','Cheese']\n",
    "for i in pizzalist:\n",
    "        print(i)"
   ]
  },
  {
   "cell_type": "code",
   "execution_count": null,
   "metadata": {},
   "outputs": [],
   "source": [
    "#Q.2\n",
    "pizzalist=['Alfredo','Crispy sage','Cheese']\n",
    "for i in pizzalist:\n",
    "        print(f'I Like {i} Pizza')\n"
   ]
  },
  {
   "cell_type": "code",
   "execution_count": null,
   "metadata": {},
   "outputs": [],
   "source": [
    "#Q.3\n",
    "for i in range(1,21):\n",
    "    print(i)"
   ]
  },
  {
   "cell_type": "code",
   "execution_count": null,
   "metadata": {},
   "outputs": [],
   "source": [
    "#Q.4\n",
    "for i in range(1,21,2):\n",
    "    print(i)"
   ]
  },
  {
   "cell_type": "code",
   "execution_count": null,
   "metadata": {},
   "outputs": [],
   "source": [
    "#Q.5\n",
    "for i in range(3,31):\n",
    "    if i%3==0:\n",
    "        print(i)"
   ]
  },
  {
   "cell_type": "code",
   "execution_count": null,
   "metadata": {},
   "outputs": [],
   "source": [
    "#Q.6\n",
    "for i in range(1,11):\n",
    "    cube=i**3\n",
    "    print(f'Cube of {i} is {cube}')"
   ]
  },
  {
   "cell_type": "code",
   "execution_count": null,
   "metadata": {},
   "outputs": [],
   "source": [
    "#Q.7\n",
    "food=['Tikka','Burger','Biryani','Pizza','Fried rice','Chicken Manchurian','Pulao','Mandi','Savour']\n",
    "for i in range(0,3):\n",
    "    print(f'The first three itmes in the list are: {food[i]}')\n",
    "foods=food[0:3]\n",
    "print(f'The first three itmes in the list are: {foods}')\n",
    "print('Three items from the middle of list are:')\n",
    "for i in range(3,6):\n",
    "    print(food[i])\n",
    "foods=food[3:6]\n",
    "print(foods)\n",
    "print('The last three items in the list are:')\n",
    "for j in range(6,9):\n",
    "    print(food[j])\n",
    "foods=food[6:9]\n",
    "print(foods)"
   ]
  },
  {
   "cell_type": "code",
   "execution_count": null,
   "metadata": {},
   "outputs": [],
   "source": [
    "#Q.8\n",
    "food=['Tikka','Burger','Biryani','Pizza','Fried rice','Chicken Manchurian','Pulao','Mandi','Savour']\n",
    "for i in range(0,3):\n",
    "    print(f'The first three itmes in the list are: {food[i]}')\n",
    "foods=food[0:3]\n",
    "print(f'The first three itmes in the list are: {foods}')\n",
    "print('Three items from the middle of list are:')\n",
    "for i in range(3,6):\n",
    "    print(food[i])\n",
    "foods=food[3:6]\n",
    "print(foods)\n",
    "print('The last three items in the list are:')\n",
    "for j in range(6,9):\n",
    "    print(food[j])\n",
    "foods=food[6:9]\n",
    "print(foods)\n",
    "friend_foods=food[:]\n",
    "food.append('Crunch')\n",
    "friend_foods.append('Kheer')\n",
    "print('My favourite pizzas are:')\n",
    "for i in food:\n",
    "    print(i)\n",
    "print('My friend favourite foods are:')\n",
    "for j in friend_foods:\n",
    "    print(j)"
   ]
  },
  {
   "cell_type": "code",
   "execution_count": null,
   "metadata": {},
   "outputs": [],
   "source": [
    "#Q.9\n",
    "Alien_color=input('Enter the Alieb_color:')\n",
    "if(Alien_color=='Red'):\n",
    "    print(\"The player just earned 5 points for shooting the alien.\")\n",
    "elif(Alien_color!='Green'):\n",
    "    print(\"The player just earned 10 points.\")\n",
    "elif(Alien_color!='Red' and Alien_color!='Green'):\n",
    "    print(\"Alien is no more\")"
   ]
  },
  {
   "cell_type": "code",
   "execution_count": null,
   "metadata": {},
   "outputs": [],
   "source": [
    "#Q.10\n",
    "age=int(input('Enter Age'))\n",
    "if age<2:\n",
    "    print('You are a baby')\n",
    "elif age >= 2 and age < 4:\n",
    "    print('You are a toddler')\n",
    "elif age>=2 and age < 13:\n",
    "    print('You are a kid')\n",
    "elif age >=13 and age<20:\n",
    "    print('You are a teenager')\n",
    "elif age >=20 and age<65:\n",
    "    print('You are an adult')\n",
    "elif age >=64:\n",
    "    print('You are an elder')"
   ]
  },
  {
   "cell_type": "code",
   "execution_count": 8,
   "metadata": {},
   "outputs": [
    {
     "name": "stdout",
     "output_type": "stream",
     "text": [
      "RAZA should not be accepted\n",
      "Noor should not be accepted\n"
     ]
    }
   ],
   "source": [
    "#Q.11\n",
    "current_users=['Usama','Ahmed','Ali','Noor','Raza']\n",
    "new_users=['Waqas','RAZA','Faraz','Noor','Bilal']\n",
    "for i in new_users:\n",
    "    for j in current_users:\n",
    "        if i.upper()==j.upper():\n",
    "            print(f'{i} should not be accepted')\n",
    "        elif i!=j:\n",
    "            continue\n",
    "\n"
   ]
  },
  {
   "cell_type": "code",
   "execution_count": 9,
   "metadata": {},
   "outputs": [
    {
     "name": "stdout",
     "output_type": "stream",
     "text": [
      "First_name is Usama\n",
      "Last_name is Ansare\n",
      "Age is 23\n",
      "City is Karachi\n"
     ]
    }
   ],
   "source": [
    "#Q.12\n",
    "dic={'First_name':'Usama','Last_name':'Ansare','Age':23,'City':'Karachi'}\n",
    "a=len(dic)\n",
    "for i,j in dic.items():\n",
    "    print (f'{i} is {j}')"
   ]
  },
  {
   "cell_type": "code",
   "execution_count": 10,
   "metadata": {},
   "outputs": [
    {
     "name": "stdout",
     "output_type": "stream",
     "text": [
      "First_name is Usama\n",
      "Last_name is Ansare\n",
      "Age is 23\n",
      "City is Karachi\n",
      "<built-in method values of dict object at 0x04349480>\n",
      "<built-in method values of dict object at 0x04349480>\n",
      "<built-in method values of dict object at 0x04349480>\n",
      "<built-in method values of dict object at 0x04349480>\n",
      "<built-in method values of dict object at 0x04349480>\n",
      "<built-in method values of dict object at 0x04349480>\n"
     ]
    }
   ],
   "source": [
    "#Q.13\n",
    "dic={'First_name':'Usama','Last_name':'Ansare','Age':23,'City':'Karachi'}\n",
    "a=len(dic)\n",
    "for i,j in dic.items():\n",
    "    print (f'{i} is {j}')\n",
    "for i in range(0,6):\n",
    "    dic['Address']='House#215'\n",
    "    print(dic.values)\n"
   ]
  },
  {
   "cell_type": "code",
   "execution_count": null,
   "metadata": {},
   "outputs": [],
   "source": [
    "#Q.14\n",
    "rivers={'Sepik River':'New Guinea','Mississipi':'United States','Volga':'Europe'}\n",
    "for i,j in rivers.items():\n",
    "    print(f'The {i} runs through {j}')"
   ]
  },
  {
   "cell_type": "code",
   "execution_count": null,
   "metadata": {},
   "outputs": [],
   "source": [
    "#Q.15\n",
    "cat={'Name':'Cat','Type':'Pet','Class':'Mammal','Owner':'Ahmed'}\n",
    "dog={'Name':'Dog','Type':'Pet','Class':'Mammal','Owner':'Ali'}\n",
    "frog={'Name':'Frog','Type':'Pet','Class':'Amphibian','Owner':'Bilal'}\n",
    "pets=[cat,dog,frog]\n",
    "a=1\n",
    "for i in pets:\n",
    "    print(a)\n",
    "    for j,k in i.items():\n",
    "        print(j,k)\n",
    "    a=a+1\n"
   ]
  },
  {
   "cell_type": "code",
   "execution_count": null,
   "metadata": {},
   "outputs": [],
   "source": []
  }
 ],
 "metadata": {
  "kernelspec": {
   "display_name": "Python 3",
   "language": "python",
   "name": "python3"
  },
  "language_info": {
   "codemirror_mode": {
    "name": "ipython",
    "version": 3
   },
   "file_extension": ".py",
   "mimetype": "text/x-python",
   "name": "python",
   "nbconvert_exporter": "python",
   "pygments_lexer": "ipython3",
   "version": "3.7.3"
  }
 },
 "nbformat": 4,
 "nbformat_minor": 2
}
