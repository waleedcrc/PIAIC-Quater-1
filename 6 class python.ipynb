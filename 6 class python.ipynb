{
 "cells": [
  {
   "cell_type": "markdown",
   "metadata": {},
   "source": [
    "#  args and *kwargs"
   ]
  },
  {
   "cell_type": "code",
   "execution_count": 5,
   "metadata": {},
   "outputs": [],
   "source": [
    "def pizza (size,*toppings):\n",
    "    print (size)\n",
    "    print (toppings)"
   ]
  },
  {
   "cell_type": "code",
   "execution_count": 6,
   "metadata": {},
   "outputs": [
    {
     "name": "stdout",
     "output_type": "stream",
     "text": [
      "12\n",
      "('black peppar',)\n"
     ]
    }
   ],
   "source": [
    "pizza (12 ,'black peppar')"
   ]
  },
  {
   "cell_type": "code",
   "execution_count": 7,
   "metadata": {},
   "outputs": [
    {
     "name": "stdout",
     "output_type": "stream",
     "text": [
      "12\n",
      "('black peppar', 'tikka')\n"
     ]
    }
   ],
   "source": [
    "pizza (12 ,'black peppar','tikka') # they make (tapple) if we use (*) in function"
   ]
  },
  {
   "cell_type": "code",
   "execution_count": 8,
   "metadata": {},
   "outputs": [],
   "source": [
    "def pizza (size,*toppings):\n",
    "    print (f'your size of pizza is {size}')\n",
    "    for topping in toppings :\n",
    "        print (f'your have  choosen these toppings {topping}')"
   ]
  },
  {
   "cell_type": "code",
   "execution_count": 9,
   "metadata": {},
   "outputs": [
    {
     "name": "stdout",
     "output_type": "stream",
     "text": [
      "your size of pizza is 12\n",
      "your have  choosen these toppings black peppar\n",
      "your have  choosen these toppings tikka\n",
      "your have  choosen these toppings extra chees\n"
     ]
    }
   ],
   "source": [
    "pizza (12 ,'black peppar','tikka','extra chees') "
   ]
  },
  {
   "cell_type": "code",
   "execution_count": 10,
   "metadata": {},
   "outputs": [],
   "source": [
    "# first arg = name \n",
    "# second arg = amount \n",
    "# third arg = no of order\n",
    "# condition if amount is not given message generate"
   ]
  },
  {
   "cell_type": "code",
   "execution_count": 13,
   "metadata": {},
   "outputs": [],
   "source": [
    "def buffet (name ,payment,*menu):\n",
    "    print (f'welcome {name}')\n",
    "    if payment == 'paid':\n",
    "        print (f'you have selected {menu} items')\n",
    "    else :\n",
    "        print ('plase pay amount')\n",
    "    \n"
   ]
  },
  {
   "cell_type": "code",
   "execution_count": 14,
   "metadata": {
    "collapsed": true
   },
   "outputs": [
    {
     "name": "stdout",
     "output_type": "stream",
     "text": [
      "welcome asad\n",
      "you have selected ('biryani', 'tikka', 'kabab', 'dumba karhai') items\n"
     ]
    }
   ],
   "source": [
    "buffet ('asad','paid','biryani','tikka','kabab','dumba karhai')"
   ]
  },
  {
   "cell_type": "code",
   "execution_count": 15,
   "metadata": {},
   "outputs": [],
   "source": [
    "def profile (name ,fname ,**otherinfo):\n",
    "    print (name ,fname)\n",
    "    print (otherinfo)\n"
   ]
  },
  {
   "cell_type": "code",
   "execution_count": 20,
   "metadata": {},
   "outputs": [
    {
     "name": "stdout",
     "output_type": "stream",
     "text": [
      "Asad Noor\n",
      "{'age': 28, 'no': 76739, 'address': 'lahore'}\n"
     ]
    }
   ],
   "source": [
    "profile ('Asad','Noor',age =28 ,no =76739 ,address ='lahore') # answer give in list and key word argument"
   ]
  },
  {
   "cell_type": "code",
   "execution_count": 19,
   "metadata": {},
   "outputs": [
    {
     "name": "stdout",
     "output_type": "stream",
     "text": [
      "Asad Noor\n",
      "{'age': 28, 'no': 76739, 'address': ['lahore', 'karachi']}\n"
     ]
    }
   ],
   "source": [
    "profile ('Asad','Noor',age =28 ,no =76739 ,address = ['lahore','karachi']) # list in dictionary"
   ]
  },
  {
   "cell_type": "markdown",
   "metadata": {},
   "source": [
    "# global scope and local scope"
   ]
  },
  {
   "cell_type": "code",
   "execution_count": 22,
   "metadata": {},
   "outputs": [
    {
     "name": "stdout",
     "output_type": "stream",
     "text": [
      "pakistan zindabad\n"
     ]
    }
   ],
   "source": [
    "myName ='Waleed'\n",
    "\n",
    "print ('pakistan zindabad')"
   ]
  },
  {
   "cell_type": "code",
   "execution_count": 23,
   "metadata": {},
   "outputs": [
    {
     "name": "stdout",
     "output_type": "stream",
     "text": [
      "pakistan zindabad\n"
     ]
    }
   ],
   "source": [
    "print ('pakistan zindabad')"
   ]
  },
  {
   "cell_type": "code",
   "execution_count": 24,
   "metadata": {},
   "outputs": [
    {
     "name": "stdout",
     "output_type": "stream",
     "text": [
      "pakistan zindabad\n"
     ]
    }
   ],
   "source": [
    "print ('pakistan zindabad')\n"
   ]
  },
  {
   "cell_type": "code",
   "execution_count": 25,
   "metadata": {},
   "outputs": [
    {
     "name": "stdout",
     "output_type": "stream",
     "text": [
      "pakistan zindabad\n"
     ]
    }
   ],
   "source": [
    "print ('pakistan zindabad')"
   ]
  },
  {
   "cell_type": "code",
   "execution_count": 26,
   "metadata": {},
   "outputs": [
    {
     "name": "stdout",
     "output_type": "stream",
     "text": [
      "Waleed\n"
     ]
    }
   ],
   "source": [
    "print (myName) # this variable function exis whole function and global function"
   ]
  },
  {
   "cell_type": "code",
   "execution_count": 27,
   "metadata": {},
   "outputs": [],
   "source": [
    "def abc ():\n",
    "    yourName ='Waleed'\n",
    "    print (yourName)"
   ]
  },
  {
   "cell_type": "code",
   "execution_count": 28,
   "metadata": {},
   "outputs": [
    {
     "name": "stdout",
     "output_type": "stream",
     "text": [
      "Waleed\n"
     ]
    }
   ],
   "source": [
    "abc()"
   ]
  },
  {
   "cell_type": "code",
   "execution_count": 29,
   "metadata": {},
   "outputs": [
    {
     "name": "stdout",
     "output_type": "stream",
     "text": [
      "Waleed\n"
     ]
    }
   ],
   "source": [
    "abc()"
   ]
  },
  {
   "cell_type": "code",
   "execution_count": 30,
   "metadata": {},
   "outputs": [
    {
     "ename": "NameError",
     "evalue": "name 'yourName' is not defined",
     "output_type": "error",
     "traceback": [
      "\u001b[1;31m---------------------------------------------------------------------------\u001b[0m",
      "\u001b[1;31mNameError\u001b[0m                                 Traceback (most recent call last)",
      "\u001b[1;32m<ipython-input-30-d1c2bf0b231d>\u001b[0m in \u001b[0;36m<module>\u001b[1;34m\u001b[0m\n\u001b[1;32m----> 1\u001b[1;33m \u001b[0mprint\u001b[0m \u001b[1;33m(\u001b[0m\u001b[0myourName\u001b[0m\u001b[1;33m)\u001b[0m\u001b[1;33m\u001b[0m\u001b[1;33m\u001b[0m\u001b[0m\n\u001b[0m",
      "\u001b[1;31mNameError\u001b[0m: name 'yourName' is not defined"
     ]
    }
   ],
   "source": [
    "print (yourName) # this is only in block and local function only in local exis"
   ]
  },
  {
   "cell_type": "code",
   "execution_count": 31,
   "metadata": {},
   "outputs": [],
   "source": [
    "city = 'karachi'"
   ]
  },
  {
   "cell_type": "code",
   "execution_count": 32,
   "metadata": {},
   "outputs": [],
   "source": [
    "def country ():\n",
    "    print (city)"
   ]
  },
  {
   "cell_type": "code",
   "execution_count": 33,
   "metadata": {},
   "outputs": [
    {
     "name": "stdout",
     "output_type": "stream",
     "text": [
      "karachi\n"
     ]
    }
   ],
   "source": [
    "country()"
   ]
  },
  {
   "cell_type": "code",
   "execution_count": 34,
   "metadata": {},
   "outputs": [],
   "source": [
    "def country ():\n",
    "    city = 'quetta'\n",
    "    print (city)"
   ]
  },
  {
   "cell_type": "code",
   "execution_count": 35,
   "metadata": {},
   "outputs": [
    {
     "name": "stdout",
     "output_type": "stream",
     "text": [
      "quetta\n"
     ]
    }
   ],
   "source": [
    "country () #  local argument"
   ]
  },
  {
   "cell_type": "code",
   "execution_count": 36,
   "metadata": {},
   "outputs": [
    {
     "name": "stdout",
     "output_type": "stream",
     "text": [
      "karachi\n"
     ]
    }
   ],
   "source": [
    "print (city) # global function"
   ]
  },
  {
   "cell_type": "code",
   "execution_count": 37,
   "metadata": {},
   "outputs": [],
   "source": [
    "def xyz ():\n",
    "    x = 'apple'\n",
    "    if x =='apple':\n",
    "        y = 'orange'\n",
    "        print (x)"
   ]
  },
  {
   "cell_type": "code",
   "execution_count": 38,
   "metadata": {},
   "outputs": [
    {
     "name": "stdout",
     "output_type": "stream",
     "text": [
      "apple\n"
     ]
    }
   ],
   "source": [
    "xyz()"
   ]
  },
  {
   "cell_type": "code",
   "execution_count": 39,
   "metadata": {},
   "outputs": [],
   "source": [
    "def xyz (): \n",
    "    x = 'apple'\n",
    "    if x =='apple':\n",
    "        x = 'orange'\n",
    "        print (x)"
   ]
  },
  {
   "cell_type": "code",
   "execution_count": 40,
   "metadata": {},
   "outputs": [
    {
     "name": "stdout",
     "output_type": "stream",
     "text": [
      "orange\n"
     ]
    }
   ],
   "source": [
    "xyz()"
   ]
  },
  {
   "cell_type": "code",
   "execution_count": 41,
   "metadata": {},
   "outputs": [],
   "source": [
    "def xyz ():\n",
    "    x = 'apple'\n",
    "    print (y)\n",
    "    if x =='apple':\n",
    "        y = 'orange'\n",
    "        print (x)"
   ]
  },
  {
   "cell_type": "code",
   "execution_count": 42,
   "metadata": {},
   "outputs": [
    {
     "ename": "UnboundLocalError",
     "evalue": "local variable 'y' referenced before assignment",
     "output_type": "error",
     "traceback": [
      "\u001b[1;31m---------------------------------------------------------------------------\u001b[0m",
      "\u001b[1;31mUnboundLocalError\u001b[0m                         Traceback (most recent call last)",
      "\u001b[1;32m<ipython-input-42-228a7b6e2e2b>\u001b[0m in \u001b[0;36m<module>\u001b[1;34m\u001b[0m\n\u001b[1;32m----> 1\u001b[1;33m \u001b[0mxyz\u001b[0m\u001b[1;33m(\u001b[0m\u001b[1;33m)\u001b[0m\u001b[1;33m\u001b[0m\u001b[1;33m\u001b[0m\u001b[0m\n\u001b[0m",
      "\u001b[1;32m<ipython-input-41-a43a8bb6ff86>\u001b[0m in \u001b[0;36mxyz\u001b[1;34m()\u001b[0m\n\u001b[0;32m      1\u001b[0m \u001b[1;32mdef\u001b[0m \u001b[0mxyz\u001b[0m \u001b[1;33m(\u001b[0m\u001b[1;33m)\u001b[0m\u001b[1;33m:\u001b[0m\u001b[1;33m\u001b[0m\u001b[1;33m\u001b[0m\u001b[0m\n\u001b[0;32m      2\u001b[0m     \u001b[0mx\u001b[0m \u001b[1;33m=\u001b[0m \u001b[1;34m'apple'\u001b[0m\u001b[1;33m\u001b[0m\u001b[1;33m\u001b[0m\u001b[0m\n\u001b[1;32m----> 3\u001b[1;33m     \u001b[0mprint\u001b[0m \u001b[1;33m(\u001b[0m\u001b[0my\u001b[0m\u001b[1;33m)\u001b[0m\u001b[1;33m\u001b[0m\u001b[1;33m\u001b[0m\u001b[0m\n\u001b[0m\u001b[0;32m      4\u001b[0m     \u001b[1;32mif\u001b[0m \u001b[0mx\u001b[0m \u001b[1;33m==\u001b[0m\u001b[1;34m'apple'\u001b[0m\u001b[1;33m:\u001b[0m\u001b[1;33m\u001b[0m\u001b[1;33m\u001b[0m\u001b[0m\n\u001b[0;32m      5\u001b[0m         \u001b[0my\u001b[0m \u001b[1;33m=\u001b[0m \u001b[1;34m'orange'\u001b[0m\u001b[1;33m\u001b[0m\u001b[1;33m\u001b[0m\u001b[0m\n",
      "\u001b[1;31mUnboundLocalError\u001b[0m: local variable 'y' referenced before assignment"
     ]
    }
   ],
   "source": [
    "xyz()"
   ]
  },
  {
   "cell_type": "code",
   "execution_count": 54,
   "metadata": {},
   "outputs": [],
   "source": [
    "def fruits ():\n",
    "    fruit ='banana'\n",
    "    print (fruit)"
   ]
  },
  {
   "cell_type": "code",
   "execution_count": 55,
   "metadata": {},
   "outputs": [
    {
     "name": "stdout",
     "output_type": "stream",
     "text": [
      "banana\n"
     ]
    }
   ],
   "source": [
    "fruits()"
   ]
  },
  {
   "cell_type": "code",
   "execution_count": 52,
   "metadata": {},
   "outputs": [],
   "source": [
    "def fruits ():\n",
    "    global fruit\n",
    "    fruit ='banana'\n",
    "    print (fruit)"
   ]
  },
  {
   "cell_type": "code",
   "execution_count": 53,
   "metadata": {},
   "outputs": [
    {
     "name": "stdout",
     "output_type": "stream",
     "text": [
      "banana\n"
     ]
    }
   ],
   "source": [
    "fruits()"
   ]
  },
  {
   "cell_type": "markdown",
   "metadata": {},
   "source": [
    "# use of function as a variable"
   ]
  },
  {
   "cell_type": "code",
   "execution_count": 59,
   "metadata": {},
   "outputs": [],
   "source": [
    "def add ():\n",
    "    a = 3+4\n",
    "    return a\n",
    "def sub ():\n",
    "    b = 29-34\n",
    "    return b \n",
    "\n",
    "\n"
   ]
  },
  {
   "cell_type": "code",
   "execution_count": 60,
   "metadata": {},
   "outputs": [
    {
     "name": "stdout",
     "output_type": "stream",
     "text": [
      "2\n"
     ]
    }
   ],
   "source": [
    "print (add()+ sub())"
   ]
  },
  {
   "cell_type": "code",
   "execution_count": 81,
   "metadata": {},
   "outputs": [],
   "source": [
    "def commissioncalculator(sales_value):\n",
    "    if sales_value>10000:\n",
    "        percent = 5  \n",
    "    elif sales_value>50000:\n",
    "        percent = 10\n",
    "    elif sales_value>100000:\n",
    "        percent = 20\n",
    "    else :\n",
    "        percent = 0\n",
    "    commssion  = sales_value/100*percent\n",
    "    return commssion\n",
    "    \n",
    "def grosscalc (basic,sales_value):\n",
    "    grosspay = basic + commissioncalculator(sales_value)\n",
    "    return grosspay "
   ]
  },
  {
   "cell_type": "code",
   "execution_count": 82,
   "metadata": {},
   "outputs": [
    {
     "name": "stdout",
     "output_type": "stream",
     "text": [
      "your total salary is 27500.0\n"
     ]
    }
   ],
   "source": [
    "pay = grosscalc (25000,50000)\n",
    "print(f'your total salary is {pay}') "
   ]
  },
  {
   "cell_type": "code",
   "execution_count": 86,
   "metadata": {},
   "outputs": [],
   "source": [
    "def commissioncalculator(sales_value):\n",
    "    if sales_value>=10000 and sales_value<50000:\n",
    "        percent = 5  \n",
    "    elif sales_value>=50000 and sales_value<100000:\n",
    "        percent = 10\n",
    "    elif sales_value>=100000:\n",
    "        percent = 20\n",
    "    else :\n",
    "        percent = 0\n",
    "    commssion  = sales_value/100*percent\n",
    "    return commssion\n",
    "    \n",
    "def grosscalc (basic,sales_value):\n",
    "    grosspay = basic + commissioncalculator(sales_value)\n",
    "    return grosspay "
   ]
  },
  {
   "cell_type": "code",
   "execution_count": 88,
   "metadata": {},
   "outputs": [
    {
     "name": "stdout",
     "output_type": "stream",
     "text": [
      "enter basic20000\n",
      "enter sales5000\n",
      "your total salary is 20000.0\n"
     ]
    }
   ],
   "source": [
    "basic = int (input('enter basic'))\n",
    "sales = int (input('enter sales'))\n",
    "pay = grosscalc (basic,sales)\n",
    "print(f'your total salary is {pay}') "
   ]
  },
  {
   "cell_type": "markdown",
   "metadata": {},
   "source": [
    "# while loops"
   ]
  },
  {
   "cell_type": "markdown",
   "metadata": {},
   "source": [
    " "
   ]
  },
  {
   "cell_type": "code",
   "execution_count": 1,
   "metadata": {},
   "outputs": [
    {
     "name": "stdout",
     "output_type": "stream",
     "text": [
      "0 imforloop\n",
      "1 imforloop\n",
      "2 imforloop\n",
      "3 imforloop\n",
      "4 imforloop\n",
      "5 imforloop\n",
      "6 imforloop\n",
      "7 imforloop\n",
      "8 imforloop\n",
      "9 imforloop\n"
     ]
    }
   ],
   "source": [
    "for a in range (10):\n",
    "    print (a ,'imforloop')"
   ]
  },
  {
   "cell_type": "code",
   "execution_count": 2,
   "metadata": {
    "scrolled": true
   },
   "outputs": [
    {
     "name": "stdout",
     "output_type": "stream",
     "text": [
      "1 imforloop\n",
      "2 imforloop\n",
      "3 imforloop\n",
      "4 imforloop\n",
      "5 imforloop\n",
      "6 imforloop\n",
      "7 imforloop\n",
      "8 imforloop\n",
      "9 imforloop\n"
     ]
    }
   ],
   "source": [
    "a =1 \n",
    "while a<10:\n",
    "    print (a,'imforloop')\n",
    "    a+=1"
   ]
  },
  {
   "cell_type": "code",
   "execution_count": 3,
   "metadata": {},
   "outputs": [],
   "source": [
    "def commissioncalculator(sales_value):\n",
    "    if sales_value>10000:\n",
    "        percent = 5  \n",
    "    elif sales_value>50000:\n",
    "        percent = 10\n",
    "    elif sales_value>100000:\n",
    "        percent = 20\n",
    "    else :\n",
    "        percent = 0\n",
    "    commssion  = sales_value/100*percent\n",
    "    return commssion\n",
    "    \n",
    "def grosscalc (basic,sales_value):\n",
    "    grosspay = basic + commissioncalculator(sales_value)\n",
    "    return grosspay "
   ]
  },
  {
   "cell_type": "code",
   "execution_count": null,
   "metadata": {},
   "outputs": [],
   "source": []
  },
  {
   "cell_type": "code",
   "execution_count": 4,
   "metadata": {},
   "outputs": [],
   "source": [
    "def greenguests(name):\n",
    "    \n",
    "    print (f'welcome dear{name}')"
   ]
  },
  {
   "cell_type": "code",
   "execution_count": 5,
   "metadata": {},
   "outputs": [
    {
     "name": "stdout",
     "output_type": "stream",
     "text": [
      "plese tell me your namewaleed\n",
      "welcome dearwaleed\n",
      "plese tell me your nameq\n",
      "welcome dearq\n",
      "plese tell me your namethe\n",
      "welcome dearthe\n",
      "plese tell me your nameq\n",
      "welcome dearq\n",
      "plese tell me your nameq\n",
      "welcome dearq\n",
      "plese tell me your nameq \n"
     ]
    }
   ],
   "source": [
    "flag = True\n",
    "while flag :\n",
    "    name =input('plese tell me your name')\n",
    "    if name =='q':\n",
    "        flag = False\n",
    "        break \n",
    "    greenguests(name)"
   ]
  },
  {
   "cell_type": "code",
   "execution_count": null,
   "metadata": {},
   "outputs": [],
   "source": []
  }
 ],
 "metadata": {
  "kernelspec": {
   "display_name": "Python 3",
   "language": "python",
   "name": "python3"
  },
  "language_info": {
   "codemirror_mode": {
    "name": "ipython",
    "version": 3
   },
   "file_extension": ".py",
   "mimetype": "text/x-python",
   "name": "python",
   "nbconvert_exporter": "python",
   "pygments_lexer": "ipython3",
   "version": "3.7.3"
  }
 },
 "nbformat": 4,
 "nbformat_minor": 2
}
