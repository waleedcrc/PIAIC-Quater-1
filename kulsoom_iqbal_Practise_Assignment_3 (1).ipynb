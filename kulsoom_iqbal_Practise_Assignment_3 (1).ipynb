{
 "cells": [
  {
   "cell_type": "markdown",
   "metadata": {},
   "source": [
    "# Q1:"
   ]
  },
  {
   "cell_type": "markdown",
   "metadata": {},
   "source": [
    "Think of at least three kinds of your favorite pizza. Store these pizza names in a list, and then use a for loop to print the name of each pizza."
   ]
  },
  {
   "cell_type": "code",
   "execution_count": 2,
   "metadata": {},
   "outputs": [],
   "source": [
    "fav_pizza = ['fajita','tikka','pepperoni']"
   ]
  },
  {
   "cell_type": "code",
   "execution_count": 8,
   "metadata": {},
   "outputs": [
    {
     "name": "stdout",
     "output_type": "stream",
     "text": [
      "My Favorite pizza's are \n",
      "fajita\n",
      "tikka\n",
      "pepperoni\n"
     ]
    }
   ],
   "source": [
    "print(\"My Favorite pizza's are \")\n",
    "for i in fav_pizza:\n",
    "    print(i)"
   ]
  },
  {
   "cell_type": "code",
   "execution_count": null,
   "metadata": {},
   "outputs": [],
   "source": []
  },
  {
   "cell_type": "markdown",
   "metadata": {},
   "source": [
    "# Q2"
   ]
  },
  {
   "cell_type": "markdown",
   "metadata": {},
   "source": [
    "Start with your last question , Modify your for loop to print a sentence using the name of the pizza\n",
    "instead of printing just the name of the pizza. For each pizza you should\n",
    "have one line of output containing a simple statement like I like pepperoni\n",
    "pizza."
   ]
  },
  {
   "cell_type": "code",
   "execution_count": 10,
   "metadata": {},
   "outputs": [
    {
     "name": "stdout",
     "output_type": "stream",
     "text": [
      "I Like fajita pizza \n",
      "I Like tikka pizza \n",
      "I Like pepperoni pizza \n"
     ]
    }
   ],
   "source": [
    "for i in fav_pizza:\n",
    "    print(f'I Like {i} pizza ') "
   ]
  },
  {
   "cell_type": "code",
   "execution_count": null,
   "metadata": {},
   "outputs": [],
   "source": []
  },
  {
   "cell_type": "code",
   "execution_count": null,
   "metadata": {},
   "outputs": [],
   "source": []
  },
  {
   "cell_type": "markdown",
   "metadata": {},
   "source": [
    "# Q3:"
   ]
  },
  {
   "cell_type": "markdown",
   "metadata": {},
   "source": [
    "Use a for loop to print the numbers from 1 to 20,\n",
    "inclusive."
   ]
  },
  {
   "cell_type": "code",
   "execution_count": 11,
   "metadata": {},
   "outputs": [
    {
     "name": "stdout",
     "output_type": "stream",
     "text": [
      "1 2 3 4 5 6 7 8 9 10 11 12 13 14 15 16 17 18 19 20 "
     ]
    }
   ],
   "source": [
    "for i in range(1,21):\n",
    "    print(i, end = \" \")"
   ]
  },
  {
   "cell_type": "code",
   "execution_count": null,
   "metadata": {},
   "outputs": [],
   "source": []
  },
  {
   "cell_type": "code",
   "execution_count": null,
   "metadata": {},
   "outputs": [],
   "source": []
  },
  {
   "cell_type": "markdown",
   "metadata": {},
   "source": [
    "# Q4:"
   ]
  },
  {
   "cell_type": "markdown",
   "metadata": {},
   "source": [
    "Use the third argument of the range() function to make a list\n",
    "of the odd numbers from 1 to 20. Use a for loop to print each number."
   ]
  },
  {
   "cell_type": "code",
   "execution_count": 12,
   "metadata": {},
   "outputs": [
    {
     "name": "stdout",
     "output_type": "stream",
     "text": [
      "Odd Numbers from 1-20 are: \n",
      "1 3 5 7 9 11 13 15 17 19 "
     ]
    }
   ],
   "source": [
    "print(\"Odd Numbers from 1-20 are: \")\n",
    "for i in range(1,20,2):\n",
    "    print(i, end = \" \")"
   ]
  },
  {
   "cell_type": "code",
   "execution_count": null,
   "metadata": {},
   "outputs": [],
   "source": []
  },
  {
   "cell_type": "code",
   "execution_count": null,
   "metadata": {},
   "outputs": [],
   "source": []
  },
  {
   "cell_type": "markdown",
   "metadata": {},
   "source": [
    "# Q5:"
   ]
  },
  {
   "cell_type": "markdown",
   "metadata": {},
   "source": [
    "Make a list of the multiples of 3 from 3 to 30. Use a for loop to\n",
    "print the numbers in your list."
   ]
  },
  {
   "cell_type": "code",
   "execution_count": 17,
   "metadata": {},
   "outputs": [
    {
     "name": "stdout",
     "output_type": "stream",
     "text": [
      "[3, 6, 9, 12, 15, 18, 21, 24, 27, 30]\n"
     ]
    }
   ],
   "source": [
    "list= [1,2,3,4,5,6,7,8,9,10]\n",
    "multi_list=[]\n",
    "for d in list:\n",
    "    multi_list.append(d*3)\n",
    "print(multi_list)"
   ]
  },
  {
   "cell_type": "code",
   "execution_count": null,
   "metadata": {},
   "outputs": [],
   "source": []
  },
  {
   "cell_type": "code",
   "execution_count": null,
   "metadata": {},
   "outputs": [],
   "source": []
  },
  {
   "cell_type": "code",
   "execution_count": null,
   "metadata": {},
   "outputs": [],
   "source": []
  },
  {
   "cell_type": "markdown",
   "metadata": {},
   "source": [
    "# Q6:"
   ]
  },
  {
   "cell_type": "markdown",
   "metadata": {},
   "source": [
    "A number raised to the third power is called a cube. For example,\n",
    "the cube of 2 is written as 2**3 in Python. Make a list of the first 10 cubes (that\n",
    "is, the cube of each integer from 1 through 10), and use a for loop to print out\n",
    "the value of each cube"
   ]
  },
  {
   "cell_type": "code",
   "execution_count": 16,
   "metadata": {},
   "outputs": [
    {
     "name": "stdout",
     "output_type": "stream",
     "text": [
      "[1, 8, 27, 64, 125, 216, 343, 512, 729, 1000]\n"
     ]
    }
   ],
   "source": [
    "cubes = []\n",
    "for i in range(1,11):\n",
    "    cubes.append(i**3)\n",
    "print(cubes)"
   ]
  },
  {
   "cell_type": "code",
   "execution_count": null,
   "metadata": {},
   "outputs": [],
   "source": []
  },
  {
   "cell_type": "code",
   "execution_count": null,
   "metadata": {},
   "outputs": [],
   "source": []
  },
  {
   "cell_type": "code",
   "execution_count": null,
   "metadata": {},
   "outputs": [],
   "source": []
  },
  {
   "cell_type": "markdown",
   "metadata": {},
   "source": [
    "# Q7:"
   ]
  },
  {
   "cell_type": "markdown",
   "metadata": {},
   "source": [
    "Make a python program that conatains your nine favourite dishes in a list called foods.\n",
    "\n",
    " Print the message, The first three items in the list are:. \n",
    " Then use a slice to print the first three items from that program’s list.\n",
    "\n",
    "Print the message, Three items from the middle of the list are:\n",
    " Use a slice to print three items from the middle of the list.\n",
    "\n",
    " Print the message, The last three items in the list are:\n",
    " Use a slice to print the last three items in the list."
   ]
  },
  {
   "cell_type": "code",
   "execution_count": 8,
   "metadata": {},
   "outputs": [],
   "source": [
    "foods = ['palak paneer','bhindi','burger','biryani','pulao','salad','singaporean rice','pasta','soup' ]"
   ]
  },
  {
   "cell_type": "code",
   "execution_count": 9,
   "metadata": {},
   "outputs": [
    {
     "name": "stdout",
     "output_type": "stream",
     "text": [
      " The first three items in the list are:\n",
      "['palak paneer', 'bhindi', 'burger']\n"
     ]
    }
   ],
   "source": [
    "print(\" The first three items in the list are:\")\n",
    "print(foods[0:3])"
   ]
  },
  {
   "cell_type": "code",
   "execution_count": 10,
   "metadata": {},
   "outputs": [
    {
     "name": "stdout",
     "output_type": "stream",
     "text": [
      "Three items from the middle of the list are:\n",
      "['biryani', 'pulao', 'salad']\n"
     ]
    }
   ],
   "source": [
    "print(\"Three items from the middle of the list are:\")\n",
    "print(foods[3:6])"
   ]
  },
  {
   "cell_type": "code",
   "execution_count": 11,
   "metadata": {},
   "outputs": [
    {
     "name": "stdout",
     "output_type": "stream",
     "text": [
      "The last three items in the list are:\n",
      "['singaporean rice', 'pasta', 'soup']\n"
     ]
    }
   ],
   "source": [
    "print(\"The last three items in the list are:\")\n",
    "print(foods[6:])"
   ]
  },
  {
   "cell_type": "code",
   "execution_count": null,
   "metadata": {},
   "outputs": [],
   "source": []
  },
  {
   "cell_type": "code",
   "execution_count": null,
   "metadata": {},
   "outputs": [],
   "source": []
  },
  {
   "cell_type": "code",
   "execution_count": null,
   "metadata": {},
   "outputs": [],
   "source": []
  },
  {
   "cell_type": "markdown",
   "metadata": {},
   "source": [
    "# Q8:"
   ]
  },
  {
   "cell_type": "markdown",
   "metadata": {},
   "source": [
    "### Start with your program from your last Question8.\n",
    "###### Make a copy of the list of foods, and call it friend_foods.\n",
    "###### Then, do the following:\n",
    "######    Add a new dish to the original list.\n",
    "######    Add a different dish to the list friend_foodss.\n",
    "######    Prove that you have two separate lists. \n",
    "###### Print the message, My favorite pizzas are: and then use a for loop to print the first list. \n",
    "###### Print the message,\n",
    "###### My friend’s favorite foods are:, and then use a for loop to print the second list.\n",
    "    \n",
    "##### NOTE: Make sure each new dish is stored in the appropriate list."
   ]
  },
  {
   "cell_type": "code",
   "execution_count": 12,
   "metadata": {},
   "outputs": [
    {
     "data": {
      "text/plain": [
       "['palak paneer',\n",
       " 'bhindi',\n",
       " 'burger',\n",
       " 'biryani',\n",
       " 'pulao',\n",
       " 'salad',\n",
       " 'singaporean rice',\n",
       " 'pasta',\n",
       " 'soup']"
      ]
     },
     "execution_count": 12,
     "metadata": {},
     "output_type": "execute_result"
    }
   ],
   "source": [
    "foods"
   ]
  },
  {
   "cell_type": "code",
   "execution_count": 13,
   "metadata": {},
   "outputs": [
    {
     "data": {
      "text/plain": [
       "['palak paneer',\n",
       " 'bhindi',\n",
       " 'burger',\n",
       " 'biryani',\n",
       " 'pulao',\n",
       " 'salad',\n",
       " 'singaporean rice',\n",
       " 'pasta',\n",
       " 'soup']"
      ]
     },
     "execution_count": 13,
     "metadata": {},
     "output_type": "execute_result"
    }
   ],
   "source": [
    "friend_foods = []\n",
    "friend_foods = foods.copy()\n",
    "friend_foods"
   ]
  },
  {
   "cell_type": "code",
   "execution_count": 14,
   "metadata": {},
   "outputs": [],
   "source": [
    "foods.append('Chinese Rice')"
   ]
  },
  {
   "cell_type": "code",
   "execution_count": 15,
   "metadata": {},
   "outputs": [
    {
     "name": "stdout",
     "output_type": "stream",
     "text": [
      "My friends Favourite foods are:\n",
      "palak paneer\n",
      "bhindi\n",
      "burger\n",
      "biryani\n",
      "pulao\n",
      "salad\n",
      "singaporean rice\n",
      "pasta\n",
      "soup\n"
     ]
    }
   ],
   "source": [
    "print('My friends Favourite foods are:')\n",
    "for y in friend_foods:\n",
    "      print(y)"
   ]
  },
  {
   "cell_type": "code",
   "execution_count": null,
   "metadata": {},
   "outputs": [],
   "source": []
  },
  {
   "cell_type": "code",
   "execution_count": null,
   "metadata": {},
   "outputs": [],
   "source": [
    " "
   ]
  },
  {
   "cell_type": "code",
   "execution_count": null,
   "metadata": {},
   "outputs": [],
   "source": []
  },
  {
   "cell_type": "markdown",
   "metadata": {},
   "source": [
    "# Q9:"
   ]
  },
  {
   "cell_type": "markdown",
   "metadata": {},
   "source": [
    "Take a user input from console line.Store it in a variable called Alien_color.\n",
    "\n",
    "If the alien’s color is red, print a statement that the player just earned 5 points for shooting the alien.\n",
    "\n",
    "If the alien’s color isn’t green, print a statement that the player just earned 10 points.\n",
    "\n",
    "If the alien's color isn't red or green , print a statment :, Alien is no more....."
   ]
  },
  {
   "cell_type": "code",
   "execution_count": 14,
   "metadata": {},
   "outputs": [
    {
     "name": "stdout",
     "output_type": "stream",
     "text": [
      "ENTER A ALIEN COLOUR: green\n"
     ]
    }
   ],
   "source": [
    "alien_colour = input(\"ENTER A ALIEN COLOUR: \")\n"
   ]
  },
  {
   "cell_type": "code",
   "execution_count": 16,
   "metadata": {},
   "outputs": [
    {
     "name": "stdout",
     "output_type": "stream",
     "text": [
      "Alien is no more....\n"
     ]
    }
   ],
   "source": [
    "if alien_colour == \"red\":\n",
    "    print(\"The player just earned 5 points for shooting the alien\")\n",
    "elif alien_colour != \"green\":\n",
    "    print(\"the player just earned 10 points\")\n",
    "else:\n",
    "    print(\"Alien is no more....\")\n",
    "    \n",
    "\n"
   ]
  },
  {
   "cell_type": "code",
   "execution_count": null,
   "metadata": {},
   "outputs": [],
   "source": []
  },
  {
   "cell_type": "code",
   "execution_count": null,
   "metadata": {},
   "outputs": [],
   "source": []
  },
  {
   "cell_type": "markdown",
   "metadata": {},
   "source": [
    "# Q10:"
   ]
  },
  {
   "cell_type": "markdown",
   "metadata": {},
   "source": [
    "Write an if-elif-else chain that determines a person’s\n",
    "stage of life. Set a value for the variable age, and then:\n",
    "    \n",
    "•\t If the person is less than 2 years old, print a message that the person is a baby.\n",
    "\n",
    "•\t If the person is at least 2 years old but less than 4, print a message that the person is a toddler.\n",
    "\n",
    "•\t If the person is at least 4 years old but less than 13, print a message that the person is a kid.\n",
    "\n",
    "•\t If the person is at least 13 years old but less than 20, print a message that the person is a teenager.\n",
    "\n",
    "•\t If the person is at least 20 years old but less than 65, print a message that the person is an adult.\n",
    "\n",
    "•\t If the person is age 65 or older, print a message that the person is an elder."
   ]
  },
  {
   "cell_type": "code",
   "execution_count": 27,
   "metadata": {},
   "outputs": [
    {
     "name": "stdout",
     "output_type": "stream",
     "text": [
      "Enter age: 1\n",
      "The person is a baby\n"
     ]
    }
   ],
   "source": [
    "age = int(input(\"Enter age: \"))\n",
    "if age < 2:\n",
    "    print('The person is a baby')\n",
    "elif age==2 or age < 4:\n",
    "    print('The person is a toddler')\n",
    "elif age== 4 or age < 13:\n",
    "    print('The Person is a kid')\n",
    "elif age == 13 or age < 20:\n",
    "    print('The person is a teenager')\n",
    "elif age == 20 or age < 65:\n",
    "    print('The person is an adult')\n",
    "else:\n",
    "    print('The person is an elder')"
   ]
  },
  {
   "cell_type": "code",
   "execution_count": 30,
   "metadata": {},
   "outputs": [
    {
     "name": "stdout",
     "output_type": "stream",
     "text": [
      "Enter age: 3\n",
      "The person is a toddler\n"
     ]
    }
   ],
   "source": [
    "age = int(input(\"Enter age: \"))\n",
    "if age < 2:\n",
    "    print('The person is a baby')\n",
    "elif age==2 or age < 4:\n",
    "    print('The person is a toddler')\n",
    "elif age== 4 or age < 13:\n",
    "    print('The Person is a kid')\n",
    "elif age == 13 or age < 20:\n",
    "    print('The person is a teenager')\n",
    "elif age == 20 or age < 65:\n",
    "    print('The person is an adult')\n",
    "else:\n",
    "    print('The person is an elder')"
   ]
  },
  {
   "cell_type": "code",
   "execution_count": 31,
   "metadata": {},
   "outputs": [
    {
     "name": "stdout",
     "output_type": "stream",
     "text": [
      "Enter age: 4\n",
      "The Person is a kid\n"
     ]
    }
   ],
   "source": [
    "age = int(input(\"Enter age: \"))\n",
    "if age < 2:\n",
    "    print('The person is a baby')\n",
    "elif age==2 or age < 4:\n",
    "    print('The person is a toddler')\n",
    "elif age== 4 or age < 13:\n",
    "    print('The Person is a kid')\n",
    "elif age == 13 or age < 20:\n",
    "    print('The person is a teenager')\n",
    "elif age == 20 or age < 65:\n",
    "    print('The person is an adult')\n",
    "else:\n",
    "    print('The person is an elder')\n"
   ]
  },
  {
   "cell_type": "code",
   "execution_count": 33,
   "metadata": {},
   "outputs": [
    {
     "name": "stdout",
     "output_type": "stream",
     "text": [
      "Enter age: 16\n",
      "The person is a teenager\n"
     ]
    }
   ],
   "source": [
    "age = int(input(\"Enter age: \"))\n",
    "if age < 2:\n",
    "    print('The person is a baby')\n",
    "elif age==2 or age < 4:\n",
    "    print('The person is a toddler')\n",
    "elif age== 4 or age < 13:\n",
    "    print('The Person is a kid')\n",
    "elif age == 13 or age < 20:\n",
    "    print('The person is a teenager')\n",
    "elif age == 20 or age < 65:\n",
    "    print('The person is an adult')\n",
    "else:\n",
    "    print('The person is an elder')"
   ]
  },
  {
   "cell_type": "code",
   "execution_count": 34,
   "metadata": {},
   "outputs": [
    {
     "name": "stdout",
     "output_type": "stream",
     "text": [
      "Enter age: 50\n",
      "The person is an adult\n"
     ]
    }
   ],
   "source": [
    "age = int(input(\"Enter age: \"))\n",
    "if age < 2:\n",
    "    print('The person is a baby')\n",
    "elif age==2 or age < 4:\n",
    "    print('The person is a toddler')\n",
    "elif age== 4 or age < 13:\n",
    "    print('The Person is a kid')\n",
    "elif age == 13 or age < 20:\n",
    "    print('The person is a teenager')\n",
    "elif age == 20 or age < 65:\n",
    "    print('The person is an adult')\n",
    "else:\n",
    "    print('The person is an elder')"
   ]
  },
  {
   "cell_type": "code",
   "execution_count": 35,
   "metadata": {},
   "outputs": [
    {
     "name": "stdout",
     "output_type": "stream",
     "text": [
      "Enter age: 70\n",
      "The person is an elder\n"
     ]
    }
   ],
   "source": [
    "age = int(input(\"Enter age: \"))\n",
    "if age < 2:\n",
    "    print('The person is a baby')\n",
    "elif age==2 or age < 4:\n",
    "    print('The person is a toddler')\n",
    "elif age== 4 or age < 13:\n",
    "    print('The Person is a kid')\n",
    "elif age == 13 or age < 20:\n",
    "    print('The person is a teenager')\n",
    "elif age == 20 or age < 65:\n",
    "    print('The person is an adult')\n",
    "else:\n",
    "    print('The person is an elder')"
   ]
  },
  {
   "cell_type": "markdown",
   "metadata": {},
   "source": [
    "# Q11:"
   ]
  },
  {
   "cell_type": "markdown",
   "metadata": {},
   "source": [
    "Do the following to create a program that simulates how websites ensure that everyone has a unique username.\n",
    "\n",
    "•\t Make a list of five or more usernames called current_users.\n",
    "\n",
    "•\t Make another list of five usernames called new_users. \n",
    "Make sure one or two of the new usernames are also in the current_users list.\n",
    "\n",
    "•\t Loop through the new_users list to see if each new username has already been used. \n",
    "If it has, print a message that the person will need to enter a new username. \n",
    "If a username has not been used, print a message saying that the username is available.\n",
    "\n",
    "•\t Make sure your comparison is case insensitive. If 'John' has been used, 'JOHN' should not be accepted."
   ]
  },
  {
   "cell_type": "code",
   "execution_count": 36,
   "metadata": {},
   "outputs": [],
   "source": [
    "Current_users = ['kiran','afsha','shahid','zahid','adil','aysha','hamza']\n",
    "new_users = ['kiran','zahid','nasir','iqbal','khaleel']\n"
   ]
  },
  {
   "cell_type": "code",
   "execution_count": 37,
   "metadata": {},
   "outputs": [
    {
     "name": "stdout",
     "output_type": "stream",
     "text": [
      " kiran Username has been already used.. The person will need to enter a new username\n",
      " zahid Username has been already used.. The person will need to enter a new username\n",
      " nasir Username is available \n",
      " iqbal Username is available \n",
      " khaleel Username is available \n"
     ]
    }
   ],
   "source": [
    "for i in new_users:\n",
    "    if i in Current_users:\n",
    "        print(f' {i} Username has been already used.. The person will need to enter a new username')\n",
    "    else:\n",
    "        print(f' {i} Username is available ')"
   ]
  },
  {
   "cell_type": "code",
   "execution_count": null,
   "metadata": {},
   "outputs": [],
   "source": []
  },
  {
   "cell_type": "code",
   "execution_count": null,
   "metadata": {},
   "outputs": [],
   "source": []
  },
  {
   "cell_type": "markdown",
   "metadata": {},
   "source": [
    "# Q12:"
   ]
  },
  {
   "cell_type": "markdown",
   "metadata": {},
   "source": [
    "Use a dictionary to store information about a person you know.\n",
    "Store their first name, last name, age, and the city in which they live. \n",
    "You should have keys such as first_name, last_name, age, and city. \n",
    "Print each piece of information stored in your dictionary"
   ]
  },
  {
   "cell_type": "code",
   "execution_count": 38,
   "metadata": {},
   "outputs": [
    {
     "name": "stdout",
     "output_type": "stream",
     "text": [
      "first_name: kulsoom\n",
      "Last_name: iqbal\n",
      "age: 23\n",
      "city: Karachi\n"
     ]
    }
   ],
   "source": [
    "Information = {'first_name':'kulsoom','Last_name':'iqbal','age':23,'city':'Karachi'}\n",
    "for g,h in Information.items():\n",
    "    print(f'{g}: {h}')"
   ]
  },
  {
   "cell_type": "code",
   "execution_count": null,
   "metadata": {},
   "outputs": [],
   "source": []
  },
  {
   "cell_type": "code",
   "execution_count": null,
   "metadata": {},
   "outputs": [],
   "source": []
  },
  {
   "cell_type": "code",
   "execution_count": null,
   "metadata": {},
   "outputs": [],
   "source": []
  },
  {
   "cell_type": "markdown",
   "metadata": {},
   "source": [
    "# Q13:"
   ]
  },
  {
   "cell_type": "markdown",
   "metadata": {},
   "source": [
    "Starts with your last question 12 , loop through the dictionary’s keys and values.\n",
    "When you’re sure that your loop works, add five more Python terms to your\n",
    "dictionary . When you run your program again, these new words and meanings\n",
    "should automatically be included in the output."
   ]
  },
  {
   "cell_type": "code",
   "execution_count": 40,
   "metadata": {},
   "outputs": [
    {
     "name": "stdout",
     "output_type": "stream",
     "text": [
      "first_name: kulsoom\n",
      "Last_name: iqbal\n",
      "age: 23\n",
      "city: Karachi\n"
     ]
    }
   ],
   "source": [
    "for g,h in Information.items():\n",
    "    print(f'{g}: {h}')"
   ]
  },
  {
   "cell_type": "code",
   "execution_count": 42,
   "metadata": {},
   "outputs": [],
   "source": [
    "Information ['Birthday']='29-jan-1997'\n",
    "Information ['Gender']='Female'\n",
    "Information ['Degree']='bechelors'\n",
    "Information ['Religion']='Islam'\n",
    "Information ['Address' ]= 'flat no.xyz , abc area , karachi '"
   ]
  },
  {
   "cell_type": "code",
   "execution_count": 44,
   "metadata": {},
   "outputs": [
    {
     "name": "stdout",
     "output_type": "stream",
     "text": [
      "first_name: kulsoom\n",
      "Last_name: iqbal\n",
      "age: 23\n",
      "city: Karachi\n",
      "Birthday: 29-jan-1997\n",
      "Gender: Female\n",
      "Degree: bechelors\n",
      "Religion: Islam\n",
      "Address: flat no.xyz , abc area , karachi \n"
     ]
    }
   ],
   "source": [
    "for g,h in Information.items():\n",
    "    print(f'{g}: {h}')"
   ]
  },
  {
   "cell_type": "code",
   "execution_count": null,
   "metadata": {},
   "outputs": [],
   "source": []
  },
  {
   "cell_type": "code",
   "execution_count": null,
   "metadata": {},
   "outputs": [],
   "source": []
  },
  {
   "cell_type": "markdown",
   "metadata": {},
   "source": [
    "# Q14:"
   ]
  },
  {
   "cell_type": "markdown",
   "metadata": {},
   "source": [
    "Make a dictionary containing three major rivers and the country\n",
    "each river runs through. One key-value pair might be 'nile': 'egypt'.\n",
    "    \n",
    "    \n",
    "•\t Use a loop to print a sentence about each river, such as The Nile runs\n",
    "through Egypt.\n",
    "\n",
    "NOTE: use upper case through keys and values."
   ]
  },
  {
   "cell_type": "code",
   "execution_count": 45,
   "metadata": {},
   "outputs": [
    {
     "name": "stdout",
     "output_type": "stream",
     "text": [
      "The NILE runs through EGYPT\n",
      "The YELLOW runs through CHINA\n",
      "The MEKONG runs through ASIA\n",
      "The VOLGA runs through RUSSIA\n",
      "The INDUS runs through ASIA\n"
     ]
    }
   ],
   "source": [
    "rivers= {'nile':'egypt','yellow':'china','mekong':'asia','Volga':'russia','indus':'asia'}\n",
    "for key,value in rivers.items():\n",
    "    print(f'The {key.upper()} runs through {value.upper()}')"
   ]
  },
  {
   "cell_type": "code",
   "execution_count": null,
   "metadata": {},
   "outputs": [],
   "source": []
  },
  {
   "cell_type": "code",
   "execution_count": null,
   "metadata": {},
   "outputs": [],
   "source": []
  },
  {
   "cell_type": "markdown",
   "metadata": {},
   "source": [
    "# Q15:"
   ]
  },
  {
   "cell_type": "markdown",
   "metadata": {},
   "source": [
    "Make several dictionaries, where the name of each dictionary is the\n",
    "name of a pet. In each dictionary, include the kind of animal and the owner’s\n",
    "name. Store these dictionaries in a list called pets. Next, loop through your list\n",
    "and as you do print everything you know about each pet."
   ]
  },
  {
   "cell_type": "code",
   "execution_count": 55,
   "metadata": {},
   "outputs": [
    {
     "name": "stdout",
     "output_type": "stream",
     "text": [
      "{'Name of a pet': 'Cat', 'kind of animal': 'mammal', 'owners name': 'Zahid'}\n",
      "{'Name of a pet': 'Turtle', 'kind of animal': 'small mammals', 'owners name': 'Kulsoom'}\n",
      "{'Name of a pet': 'Elephent', 'kind of animal': 'Wild animal', 'owners name': 'Kiran'}\n",
      "{'Name of a pet': 'Zebra', 'kind of animal': 'single-hoofed animals', 'owners name': 'Huzaifa'}\n",
      "{'Name of a pet': 'Snake', 'kind of animal': 'REPTILES', 'owners name': 'Daniyal'}\n"
     ]
    }
   ],
   "source": [
    "Cat ={'Name of a pet':'Cat','kind of animal':'mammal','owners name':'Zahid'}\n",
    "Turtle ={'Name of a pet':'Turtle','kind of animal':'small mammals','owners name':'Kulsoom'}\n",
    "Elephent ={'Name of a pet':'Elephent','kind of animal':'Wild animal','owners name':'Kiran'}\n",
    "Zebra ={'Name of a pet':'Zebra','kind of animal':'single-hoofed animals','owners name':'Huzaifa'}\n",
    "Snake={'Name of a pet':'Snake','kind of animal':'REPTILES','owners name':'Daniyal'}\n",
    "\n",
    "pets = (Cat,Turtle,Elephent,Zebra,Snake)\n",
    "for p in pets:\n",
    "    print(p )"
   ]
  },
  {
   "cell_type": "code",
   "execution_count": null,
   "metadata": {},
   "outputs": [],
   "source": []
  }
 ],
 "metadata": {
  "kernelspec": {
   "display_name": "Python 3",
   "language": "python",
   "name": "python3"
  },
  "language_info": {
   "codemirror_mode": {
    "name": "ipython",
    "version": 3
   },
   "file_extension": ".py",
   "mimetype": "text/x-python",
   "name": "python",
   "nbconvert_exporter": "python",
   "pygments_lexer": "ipython3",
   "version": "3.7.3"
  }
 },
 "nbformat": 4,
 "nbformat_minor": 2
}
