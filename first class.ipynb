{
 "cells": [
  {
   "cell_type": "markdown",
   "metadata": {},
   "source": [
    "# concatention\n"
   ]
  },
  {
   "cell_type": "code",
   "execution_count": 1,
   "metadata": {},
   "outputs": [],
   "source": [
    "a ='10'\n",
    "b ='20'\n"
   ]
  },
  {
   "cell_type": "code",
   "execution_count": 2,
   "metadata": {},
   "outputs": [
    {
     "name": "stdout",
     "output_type": "stream",
     "text": [
      "my name is name\n"
     ]
    }
   ],
   "source": [
    "age = 26\n",
    "name ='my'\n",
    "print('my name is name')"
   ]
  },
  {
   "cell_type": "code",
   "execution_count": 3,
   "metadata": {},
   "outputs": [
    {
     "name": "stdout",
     "output_type": "stream",
     "text": [
      "what is your namekn\n"
     ]
    }
   ],
   "source": [
    "name = input ('what is your name')\n",
    "age ='my'\n",
    "print=('my name is name')\n",
    "\n",
    "              "
   ]
  },
  {
   "cell_type": "code",
   "execution_count": 1,
   "metadata": {},
   "outputs": [
    {
     "name": "stdout",
     "output_type": "stream",
     "text": [
      "what is your name?waleed\n",
      "what is your age?26\n",
      "my name is waleed and my age is 26\n"
     ]
    }
   ],
   "source": [
    "name=input('what is your name?')\n",
    "age = input('what is your age?')\n",
    "print('my name is ' + name + ' and my age is ' + age)"
   ]
  },
  {
   "cell_type": "code",
   "execution_count": null,
   "metadata": {},
   "outputs": [],
   "source": [
    "name=input('what is your name?')\n",
    "age = input('what is your age?')\n",
    "print('my name is ' + name + ' and my age is ' + age)"
   ]
  },
  {
   "cell_type": "code",
   "execution_count": null,
   "metadata": {},
   "outputs": [],
   "source": [
    "name=input('what is your name?')\n",
    "age = input('what is your age?')\n",
    "print('my name is ' + name + ' and my age is ' + age)"
   ]
  },
  {
   "cell_type": "code",
   "execution_count": 3,
   "metadata": {},
   "outputs": [
    {
     "name": "stdout",
     "output_type": "stream",
     "text": [
      "what is your name?waleed\n",
      "what is your age?26\n",
      "my name is waleed and my age is 26\n"
     ]
    }
   ],
   "source": [
    "name=input('what is your name?')\n",
    "age = input('what is your age?')\n",
    "print('my name is ' + name + ' and my age is ' + age)"
   ]
  },
  {
   "cell_type": "code",
   "execution_count": null,
   "metadata": {},
   "outputs": [],
   "source": [
    "name=input('what is your name?')\n",
    "age = input('what is your age?')\n",
    "print('my name is ' + name + ' and my age is ' + str(age))\n",
    "\n",
    "\n",
    "print('my name is ', name, 'and my age is')"
   ]
  },
  {
   "cell_type": "code",
   "execution_count": 4,
   "metadata": {},
   "outputs": [
    {
     "name": "stdout",
     "output_type": "stream",
     "text": [
      "what is your name?waleed\n",
      "what is your age?45\n",
      "my name is waleed and my age is waleed\n"
     ]
    }
   ],
   "source": [
    "name=input('what is your name?')\n",
    "age = int(input('what is your age?'))\n",
    "\n",
    "\n",
    "print ('my name is {0} and my age is {0}'.format(name,age))\n",
    "\n",
    "\n"
   ]
  },
  {
   "cell_type": "code",
   "execution_count": 6,
   "metadata": {},
   "outputs": [
    {
     "name": "stdout",
     "output_type": "stream",
     "text": [
      "what is your name?waleed\n",
      "what is your age?26\n",
      "my name is waleed and my age is 26\n"
     ]
    }
   ],
   "source": [
    "name=input('what is your name?')\n",
    "age = int(input('what is your age?'))\n",
    "\n",
    "\n",
    "print (f'my name is {name} and my age is {age}')\n",
    "\n",
    "\n"
   ]
  },
  {
   "cell_type": "code",
   "execution_count": 1,
   "metadata": {},
   "outputs": [
    {
     "name": "stdout",
     "output_type": "stream",
     "text": [
      "namewaleed\n"
     ]
    },
    {
     "data": {
      "text/plain": [
       "'waleed'"
      ]
     },
     "execution_count": 1,
     "metadata": {},
     "output_type": "execute_result"
    }
   ],
   "source": [
    "input ('name')"
   ]
  },
  {
   "cell_type": "code",
   "execution_count": null,
   "metadata": {},
   "outputs": [],
   "source": []
  }
 ],
 "metadata": {
  "kernelspec": {
   "display_name": "Python 3",
   "language": "python",
   "name": "python3"
  },
  "language_info": {
   "codemirror_mode": {
    "name": "ipython",
    "version": 3
   },
   "file_extension": ".py",
   "mimetype": "text/x-python",
   "name": "python",
   "nbconvert_exporter": "python",
   "pygments_lexer": "ipython3",
   "version": "3.7.3"
  }
 },
 "nbformat": 4,
 "nbformat_minor": 2
}
