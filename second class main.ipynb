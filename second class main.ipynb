{
 "cells": [
  {
   "cell_type": "markdown",
   "metadata": {},
   "source": [
    "# second class phyton expression math : familiar operator\n"
   ]
  },
  {
   "cell_type": "code",
   "execution_count": 1,
   "metadata": {},
   "outputs": [
    {
     "data": {
      "text/plain": [
       "1"
      ]
     },
     "execution_count": 1,
     "metadata": {},
     "output_type": "execute_result"
    }
   ],
   "source": [
    "10%3"
   ]
  },
  {
   "cell_type": "code",
   "execution_count": 2,
   "metadata": {},
   "outputs": [
    {
     "data": {
      "text/plain": [
       "10"
      ]
     },
     "execution_count": 2,
     "metadata": {},
     "output_type": "execute_result"
    }
   ],
   "source": [
    "a=10\n",
    "a+5\n",
    "a"
   ]
  },
  {
   "cell_type": "code",
   "execution_count": 3,
   "metadata": {},
   "outputs": [
    {
     "data": {
      "text/plain": [
       "20"
      ]
     },
     "execution_count": 3,
     "metadata": {},
     "output_type": "execute_result"
    }
   ],
   "source": [
    "a=15\n",
    "a=a+5\n",
    "a\n"
   ]
  },
  {
   "cell_type": "markdown",
   "metadata": {},
   "source": [
    "# a = 10\n",
    "a +=5\n",
    "a"
   ]
  },
  {
   "cell_type": "code",
   "execution_count": 6,
   "metadata": {},
   "outputs": [
    {
     "data": {
      "text/plain": [
       "10"
      ]
     },
     "execution_count": 6,
     "metadata": {},
     "output_type": "execute_result"
    }
   ],
   "source": [
    "a= 15\n",
    "a-=5\n",
    "a"
   ]
  },
  {
   "cell_type": "code",
   "execution_count": 7,
   "metadata": {},
   "outputs": [
    {
     "data": {
      "text/plain": [
       "75"
      ]
     },
     "execution_count": 7,
     "metadata": {},
     "output_type": "execute_result"
    }
   ],
   "source": [
    "a=15\n",
    "a*=5\n",
    "a"
   ]
  },
  {
   "cell_type": "markdown",
   "metadata": {},
   "source": [
    "a=5\n",
    "a/=7\n",
    "a\n"
   ]
  },
  {
   "cell_type": "code",
   "execution_count": 10,
   "metadata": {},
   "outputs": [
    {
     "data": {
      "text/plain": [
       "0.7142857142857143"
      ]
     },
     "execution_count": 10,
     "metadata": {},
     "output_type": "execute_result"
    }
   ],
   "source": [
    "a=5\n",
    "a/=7\n",
    "a"
   ]
  },
  {
   "cell_type": "markdown",
   "metadata": {},
   "source": [
    "# eliminating ambiguity"
   ]
  },
  {
   "cell_type": "code",
   "execution_count": 11,
   "metadata": {},
   "outputs": [
    {
     "data": {
      "text/plain": [
       "100"
      ]
     },
     "execution_count": 11,
     "metadata": {},
     "output_type": "execute_result"
    }
   ],
   "source": [
    "10 ** 2"
   ]
  },
  {
   "cell_type": "code",
   "execution_count": 14,
   "metadata": {},
   "outputs": [
    {
     "data": {
      "text/plain": [
       "108.0"
      ]
     },
     "execution_count": 14,
     "metadata": {},
     "output_type": "execute_result"
    }
   ],
   "source": [
    "10 * 3 ** 2 + (12 * 3 )/2 #(float operating system because division  )"
   ]
  },
  {
   "cell_type": "code",
   "execution_count": 15,
   "metadata": {},
   "outputs": [
    {
     "data": {
      "text/plain": [
       "-24.5"
      ]
     },
     "execution_count": 15,
     "metadata": {},
     "output_type": "execute_result"
    }
   ],
   "source": [
    "2 /4 - 3 * 9+ 2"
   ]
  },
  {
   "cell_type": "markdown",
   "metadata": {},
   "source": [
    "# if statement"
   ]
  },
  {
   "cell_type": "code",
   "execution_count": 19,
   "metadata": {},
   "outputs": [
    {
     "name": "stdout",
     "output_type": "stream",
     "text": [
      "first number: 79\n",
      "odd  number \n"
     ]
    }
   ],
   "source": [
    "x =int(input('first number: '))\n",
    "if x %2==0 :\n",
    "    print ('even number')\n",
    "else:\n",
    "    print ( 'odd  number ')"
   ]
  },
  {
   "cell_type": "code",
   "execution_count": 20,
   "metadata": {},
   "outputs": [
    {
     "name": "stdout",
     "output_type": "stream",
     "text": [
      "first number: 46\n",
      "even number\n"
     ]
    }
   ],
   "source": [
    "x =int(input('first number: '))\n",
    "if x %2==0 :\n",
    "    print ('even number')\n",
    "else:\n",
    "    print ( 'odd  number ')"
   ]
  },
  {
   "cell_type": "code",
   "execution_count": 21,
   "metadata": {},
   "outputs": [
    {
     "name": "stdout",
     "output_type": "stream",
     "text": [
      "enter  first number2\n",
      "enter second number6\n",
      "wrong number\n"
     ]
    }
   ],
   "source": [
    "x=int(input('enter  first number'))\n",
    "y=int(input('enter second number'))\n",
    "if x+y > 10:\n",
    "    print ('right number')\n",
    "else:\n",
    "    print ('wrong number')"
   ]
  },
  {
   "cell_type": "code",
   "execution_count": 1,
   "metadata": {},
   "outputs": [
    {
     "name": "stdout",
     "output_type": "stream",
     "text": [
      "enter  first number8\n",
      "enter second number8\n",
      "right number\n"
     ]
    }
   ],
   "source": [
    "x=int(input('enter  first number'))\n",
    "y=int(input('enter second number'))\n",
    "if x+y > 10:\n",
    "    print ('right number')\n",
    "else:\n",
    "    print ('wrong number')\n",
    "    "
   ]
  },
  {
   "cell_type": "code",
   "execution_count": 3,
   "metadata": {},
   "outputs": [
    {
     "name": "stdout",
     "output_type": "stream",
     "text": [
      " nic majood haiyes\n",
      "andar jao bhai\n",
      "voter list ma name checkyes\n",
      "cast your vote \n"
     ]
    }
   ],
   "source": [
    "nic =input(' nic majood hai')\n",
    "\n",
    "if nic=='yes':\n",
    "    print ('andar jao bhai')\n",
    "    vote = input('voter list ma name check')\n",
    "    if vote=='yes':\n",
    "        print ('cast your vote ')\n",
    "    else:\n",
    "        print('dosra center check karo ')\n",
    "else:\n",
    "    print ('nic lia ghr sa')\n"
   ]
  },
  {
   "cell_type": "code",
   "execution_count": 3,
   "metadata": {},
   "outputs": [
    {
     "name": "stdout",
     "output_type": "stream",
     "text": [
      " nic majood haino\n",
      "nic lia ghr sa\n"
     ]
    }
   ],
   "source": [
    "nic =input(' nic majood hai')\n",
    "\n",
    "if nic=='yes':\n",
    "    print ('andar jao bhai')\n",
    "    vote = input('voter list ma name check')\n",
    "    if vote=='yes':\n",
    "        print ('cast your vote ')\n",
    "    else:\n",
    "        print('dosra center check karo ')\n",
    "else:\n",
    "    print ('nic lia ghr sa')\n"
   ]
  },
  {
   "cell_type": "code",
   "execution_count": 5,
   "metadata": {},
   "outputs": [
    {
     "name": "stdout",
     "output_type": "stream",
     "text": [
      " nic majood haiYES\n",
      "andar jao bhai\n",
      "voter list ma name checkYES\n",
      "cast your vote \n"
     ]
    }
   ],
   "source": [
    "nic =input(' nic majood hai').lower()\n",
    "\n",
    "if nic=='yes':\n",
    "    print ('andar jao bhai')\n",
    "    vote = input('voter list ma name check').lower()\n",
    "    if vote=='yes':\n",
    "        print ('cast your vote ')\n",
    "    else:\n",
    "        print('dosra center check karo ')\n",
    "else:\n",
    "    print ('nic lia ghr sa')\n"
   ]
  },
  {
   "cell_type": "code",
   "execution_count": 1,
   "metadata": {},
   "outputs": [
    {
     "data": {
      "text/plain": [
       "'PAKISTAN'"
      ]
     },
     "execution_count": 1,
     "metadata": {},
     "output_type": "execute_result"
    }
   ],
   "source": [
    "x ='pakistan'\n",
    "x.upper()"
   ]
  },
  {
   "cell_type": "code",
   "execution_count": 4,
   "metadata": {},
   "outputs": [
    {
     "data": {
      "text/plain": [
       "'waleed'"
      ]
     },
     "execution_count": 4,
     "metadata": {},
     "output_type": "execute_result"
    }
   ],
   "source": [
    "y='WALEED'\n",
    "y.lower()"
   ]
  },
  {
   "cell_type": "code",
   "execution_count": 4,
   "metadata": {},
   "outputs": [
    {
     "name": "stdout",
     "output_type": "stream",
     "text": [
      "waht is your age23\n",
      "Do you have a ticketYES\n",
      "andar  jao phr\n"
     ]
    }
   ],
   "source": [
    "age=int(input('waht is your age'))\n",
    "\n",
    "if age>=20:\n",
    "    movie= input('Do you have a ticket').lower()\n",
    "    if movie== 'yes':\n",
    "        print ('andar  jao phr')\n",
    "    else:\n",
    "        print ('warna ticke lo')\n",
    "else:\n",
    "    print(' tm ko ijazat nai hai')"
   ]
  },
  {
   "cell_type": "code",
   "execution_count": null,
   "metadata": {},
   "outputs": [],
   "source": [
    "age=int(input('waht is your age'))\n",
    "\n",
    "if age>=20:\n",
    "    movie= input('Do you have a ticket').upper()\n",
    "    if movie== 'YES':\n",
    "        print ('andar  jao phr')\n",
    "    else:\n",
    "        print ('warna ticke lo')\n",
    "else:\n",
    "    print(' tm ko ijazat nai hai')"
   ]
  },
  {
   "cell_type": "code",
   "execution_count": null,
   "metadata": {},
   "outputs": [],
   "source": [
    "age=int(input('waht is your age?'))\n",
    "\n",
    "if age>=20:\n",
    "    movie= input('Do you have a ticket?').upper()\n",
    "    if movie== 'YES':\n",
    "        print ('andar  jao phr')\n",
    "    else:\n",
    "        print ('warna ticke lo')\n",
    "else:\n",
    "    print(' tm ko ijazat nai hai')"
   ]
  },
  {
   "cell_type": "markdown",
   "metadata": {},
   "source": [
    "\n",
    "y =int(input('second number :'))\n",
    "if x+y <0:\n",
    "    print('input are valid')\n",
    "    \n",
    "elif x+y ==10 :\n",
    "    print('input are valid')\n",
    "elif x+y > 100:\n",
    "    print ('input are valid')\n",
    "else:\n",
    "    print('print are not valid')"
   ]
  },
  {
   "cell_type": "code",
   "execution_count": null,
   "metadata": {},
   "outputs": [],
   "source": []
  },
  {
   "cell_type": "markdown",
   "metadata": {},
   "source": [
    "# logical 'AND' logical'or' operator\n"
   ]
  },
  {
   "cell_type": "code",
   "execution_count": null,
   "metadata": {},
   "outputs": [],
   "source": [
    "nic=input('nic majood hai:').lower()\n",
    "voter =input('voter list ma name hai:')\n",
    "\n",
    "if nic== 'yes' and voter =='yes':\n",
    "    \n",
    "    print ('cast your vote')\n",
    "else :\n",
    "    print ('check next center ')"
   ]
  },
  {
   "cell_type": "markdown",
   "metadata": {},
   "source": [
    "# comment"
   ]
  },
  {
   "cell_type": "code",
   "execution_count": null,
   "metadata": {},
   "outputs": [],
   "source": [
    " "
   ]
  }
 ],
 "metadata": {
  "kernelspec": {
   "display_name": "Python 3",
   "language": "python",
   "name": "python3"
  }
 },
 "nbformat": 4,
 "nbformat_minor": 2
}
